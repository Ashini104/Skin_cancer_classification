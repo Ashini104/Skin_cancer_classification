{
 "cells": [
  {
   "cell_type": "code",
   "execution_count": 1,
   "id": "160a3a2c-7bb1-403c-b4dc-eb2567aad98c",
   "metadata": {},
   "outputs": [],
   "source": [
    "import os\n",
    "import numpy as np\n",
    "import pandas as pd\n",
    "import matplotlib.pyplot as plt"
   ]
  },
  {
   "cell_type": "code",
   "execution_count": 2,
   "id": "691ccf73-b915-4726-afa5-bba3075fefc9",
   "metadata": {},
   "outputs": [
    {
     "data": {
      "text/html": [
       "<div>\n",
       "<style scoped>\n",
       "    .dataframe tbody tr th:only-of-type {\n",
       "        vertical-align: middle;\n",
       "    }\n",
       "\n",
       "    .dataframe tbody tr th {\n",
       "        vertical-align: top;\n",
       "    }\n",
       "\n",
       "    .dataframe thead th {\n",
       "        text-align: right;\n",
       "    }\n",
       "</style>\n",
       "<table border=\"1\" class=\"dataframe\">\n",
       "  <thead>\n",
       "    <tr style=\"text-align: right;\">\n",
       "      <th></th>\n",
       "      <th>image_name</th>\n",
       "      <th>patient_id</th>\n",
       "      <th>sex</th>\n",
       "      <th>age_approx</th>\n",
       "      <th>anatom_site_general_challenge</th>\n",
       "      <th>diagnosis</th>\n",
       "      <th>benign_malignant</th>\n",
       "      <th>target</th>\n",
       "    </tr>\n",
       "  </thead>\n",
       "  <tbody>\n",
       "    <tr>\n",
       "      <th>0</th>\n",
       "      <td>ISIC_2637011</td>\n",
       "      <td>IP_7279968</td>\n",
       "      <td>male</td>\n",
       "      <td>45.0</td>\n",
       "      <td>head/neck</td>\n",
       "      <td>unknown</td>\n",
       "      <td>benign</td>\n",
       "      <td>0</td>\n",
       "    </tr>\n",
       "    <tr>\n",
       "      <th>1</th>\n",
       "      <td>ISIC_0015719</td>\n",
       "      <td>IP_3075186</td>\n",
       "      <td>female</td>\n",
       "      <td>45.0</td>\n",
       "      <td>upper extremity</td>\n",
       "      <td>unknown</td>\n",
       "      <td>benign</td>\n",
       "      <td>0</td>\n",
       "    </tr>\n",
       "    <tr>\n",
       "      <th>2</th>\n",
       "      <td>ISIC_0052212</td>\n",
       "      <td>IP_2842074</td>\n",
       "      <td>female</td>\n",
       "      <td>50.0</td>\n",
       "      <td>lower extremity</td>\n",
       "      <td>nevus</td>\n",
       "      <td>benign</td>\n",
       "      <td>0</td>\n",
       "    </tr>\n",
       "    <tr>\n",
       "      <th>3</th>\n",
       "      <td>ISIC_0068279</td>\n",
       "      <td>IP_6890425</td>\n",
       "      <td>female</td>\n",
       "      <td>45.0</td>\n",
       "      <td>head/neck</td>\n",
       "      <td>unknown</td>\n",
       "      <td>benign</td>\n",
       "      <td>0</td>\n",
       "    </tr>\n",
       "    <tr>\n",
       "      <th>4</th>\n",
       "      <td>ISIC_0074268</td>\n",
       "      <td>IP_8723313</td>\n",
       "      <td>female</td>\n",
       "      <td>55.0</td>\n",
       "      <td>upper extremity</td>\n",
       "      <td>unknown</td>\n",
       "      <td>benign</td>\n",
       "      <td>0</td>\n",
       "    </tr>\n",
       "    <tr>\n",
       "      <th>5</th>\n",
       "      <td>ISIC_0074311</td>\n",
       "      <td>IP_2950485</td>\n",
       "      <td>female</td>\n",
       "      <td>40.0</td>\n",
       "      <td>lower extremity</td>\n",
       "      <td>unknown</td>\n",
       "      <td>benign</td>\n",
       "      <td>0</td>\n",
       "    </tr>\n",
       "    <tr>\n",
       "      <th>6</th>\n",
       "      <td>ISIC_0074542</td>\n",
       "      <td>IP_4698288</td>\n",
       "      <td>male</td>\n",
       "      <td>25.0</td>\n",
       "      <td>lower extremity</td>\n",
       "      <td>unknown</td>\n",
       "      <td>benign</td>\n",
       "      <td>0</td>\n",
       "    </tr>\n",
       "  </tbody>\n",
       "</table>\n",
       "</div>"
      ],
      "text/plain": [
       "     image_name  patient_id     sex  age_approx anatom_site_general_challenge  \\\n",
       "0  ISIC_2637011  IP_7279968    male        45.0                     head/neck   \n",
       "1  ISIC_0015719  IP_3075186  female        45.0               upper extremity   \n",
       "2  ISIC_0052212  IP_2842074  female        50.0               lower extremity   \n",
       "3  ISIC_0068279  IP_6890425  female        45.0                     head/neck   \n",
       "4  ISIC_0074268  IP_8723313  female        55.0               upper extremity   \n",
       "5  ISIC_0074311  IP_2950485  female        40.0               lower extremity   \n",
       "6  ISIC_0074542  IP_4698288    male        25.0               lower extremity   \n",
       "\n",
       "  diagnosis benign_malignant  target  \n",
       "0   unknown           benign       0  \n",
       "1   unknown           benign       0  \n",
       "2     nevus           benign       0  \n",
       "3   unknown           benign       0  \n",
       "4   unknown           benign       0  \n",
       "5   unknown           benign       0  \n",
       "6   unknown           benign       0  "
      ]
     },
     "execution_count": 2,
     "metadata": {},
     "output_type": "execute_result"
    }
   ],
   "source": [
    "training_csv='./melanoma-image-data/train.csv'\n",
    "test_csv='./melanoma-image-data/test.csv'\n",
    "train_dataframe=pd.read_csv(training_csv)\n",
    "test_dataframe=pd.read_csv(test_csv)\n",
    "train_dataframe.head(7)"
   ]
  },
  {
   "cell_type": "code",
   "execution_count": 73,
   "id": "52712b9c-7c13-44bd-a617-84d73d7d0be9",
   "metadata": {},
   "outputs": [
    {
     "data": {
      "text/plain": [
       "0    32542\n",
       "1      584\n",
       "Name: target, dtype: int64"
      ]
     },
     "execution_count": 73,
     "metadata": {},
     "output_type": "execute_result"
    }
   ],
   "source": [
    "train_dataframe['target'].value_counts()"
   ]
  },
  {
   "cell_type": "code",
   "execution_count": 74,
   "id": "1e237b5f-62b4-4304-a655-2053cbb04cdb",
   "metadata": {},
   "outputs": [
    {
     "name": "stdout",
     "output_type": "stream",
     "text": [
      "32542\n",
      "584\n"
     ]
    }
   ],
   "source": [
    "benign_data=train_dataframe[train_dataframe['target']==0]\n",
    "maligant_data=train_dataframe[train_dataframe['target']==1]\n",
    "\n",
    "benign_data=benign_data.reset_index()\n",
    "maligant_data=maligant_data.reset_index()\n",
    "\n",
    "print(benign_data.shape[0])\n",
    "print(maligant_data.shape[0])"
   ]
  },
  {
   "cell_type": "code",
   "execution_count": 75,
   "id": "0789941c-3507-4cdb-9f0e-e3364c0bf51f",
   "metadata": {},
   "outputs": [
    {
     "name": "stdout",
     "output_type": "stream",
     "text": [
      "(32542, 2)\n",
      "(584, 2)\n"
     ]
    },
    {
     "data": {
      "text/plain": [
       "(33126, 2)"
      ]
     },
     "execution_count": 75,
     "metadata": {},
     "output_type": "execute_result"
    }
   ],
   "source": [
    "#train_bening_data\n",
    "train_benign_dir='./melanoma-image-data/train/train/benign/'\n",
    "data_benign = []\n",
    "labels_benign =[]\n",
    "\n",
    "\n",
    "train_maligant_dir='./melanoma-image-data/train/train/malignant/'\n",
    "data_maligant = []\n",
    "labels_maligant =[]\n",
    "\n",
    "for i in range(benign_data.shape[0]):\n",
    "    data_benign.append(train_benign_dir+benign_data['image_name'].iloc[i]+'.jpg')\n",
    "    labels_benign.append(benign_data['target'].iloc[i])\n",
    "df_benign=pd.DataFrame(data_benign)\n",
    "df_benign.columns=['images']\n",
    "df_benign['target']=labels_benign\n",
    "\n",
    "\n",
    "for i in range(maligant_data.shape[0]):\n",
    "    data_maligant.append(train_maligant_dir+maligant_data['image_name'].iloc[i]+'.jpg')\n",
    "    labels_maligant.append(maligant_data['target'].iloc[i])\n",
    "df_maligant=pd.DataFrame(data_maligant)\n",
    "df_maligant.columns=['images']\n",
    "df_maligant['target']=labels_maligant\n",
    "\n",
    "print(df_benign.shape)\n",
    "print(df_maligant.shape)\n",
    "\n",
    "df=pd.concat([df_benign,df_maligant])\n",
    "df.shape"
   ]
  },
  {
   "cell_type": "code",
   "execution_count": 76,
   "id": "652cbf98-caf1-40bb-a7a0-3ef18b019c3e",
   "metadata": {},
   "outputs": [
    {
     "data": {
      "text/html": [
       "<div>\n",
       "<style scoped>\n",
       "    .dataframe tbody tr th:only-of-type {\n",
       "        vertical-align: middle;\n",
       "    }\n",
       "\n",
       "    .dataframe tbody tr th {\n",
       "        vertical-align: top;\n",
       "    }\n",
       "\n",
       "    .dataframe thead th {\n",
       "        text-align: right;\n",
       "    }\n",
       "</style>\n",
       "<table border=\"1\" class=\"dataframe\">\n",
       "  <thead>\n",
       "    <tr style=\"text-align: right;\">\n",
       "      <th></th>\n",
       "      <th>images</th>\n",
       "    </tr>\n",
       "  </thead>\n",
       "  <tbody>\n",
       "    <tr>\n",
       "      <th>0</th>\n",
       "      <td>./melanoma-image-data/test/test/unkown/ISIC_00...</td>\n",
       "    </tr>\n",
       "    <tr>\n",
       "      <th>1</th>\n",
       "      <td>./melanoma-image-data/test/test/unkown/ISIC_00...</td>\n",
       "    </tr>\n",
       "    <tr>\n",
       "      <th>2</th>\n",
       "      <td>./melanoma-image-data/test/test/unkown/ISIC_00...</td>\n",
       "    </tr>\n",
       "    <tr>\n",
       "      <th>3</th>\n",
       "      <td>./melanoma-image-data/test/test/unkown/ISIC_00...</td>\n",
       "    </tr>\n",
       "    <tr>\n",
       "      <th>4</th>\n",
       "      <td>./melanoma-image-data/test/test/unkown/ISIC_00...</td>\n",
       "    </tr>\n",
       "    <tr>\n",
       "      <th>...</th>\n",
       "      <td>...</td>\n",
       "    </tr>\n",
       "    <tr>\n",
       "      <th>10977</th>\n",
       "      <td>./melanoma-image-data/test/test/unkown/ISIC_99...</td>\n",
       "    </tr>\n",
       "    <tr>\n",
       "      <th>10978</th>\n",
       "      <td>./melanoma-image-data/test/test/unkown/ISIC_99...</td>\n",
       "    </tr>\n",
       "    <tr>\n",
       "      <th>10979</th>\n",
       "      <td>./melanoma-image-data/test/test/unkown/ISIC_99...</td>\n",
       "    </tr>\n",
       "    <tr>\n",
       "      <th>10980</th>\n",
       "      <td>./melanoma-image-data/test/test/unkown/ISIC_99...</td>\n",
       "    </tr>\n",
       "    <tr>\n",
       "      <th>10981</th>\n",
       "      <td>./melanoma-image-data/test/test/unkown/ISIC_99...</td>\n",
       "    </tr>\n",
       "  </tbody>\n",
       "</table>\n",
       "<p>10982 rows × 1 columns</p>\n",
       "</div>"
      ],
      "text/plain": [
       "                                                  images\n",
       "0      ./melanoma-image-data/test/test/unkown/ISIC_00...\n",
       "1      ./melanoma-image-data/test/test/unkown/ISIC_00...\n",
       "2      ./melanoma-image-data/test/test/unkown/ISIC_00...\n",
       "3      ./melanoma-image-data/test/test/unkown/ISIC_00...\n",
       "4      ./melanoma-image-data/test/test/unkown/ISIC_00...\n",
       "...                                                  ...\n",
       "10977  ./melanoma-image-data/test/test/unkown/ISIC_99...\n",
       "10978  ./melanoma-image-data/test/test/unkown/ISIC_99...\n",
       "10979  ./melanoma-image-data/test/test/unkown/ISIC_99...\n",
       "10980  ./melanoma-image-data/test/test/unkown/ISIC_99...\n",
       "10981  ./melanoma-image-data/test/test/unkown/ISIC_99...\n",
       "\n",
       "[10982 rows x 1 columns]"
      ]
     },
     "execution_count": 76,
     "metadata": {},
     "output_type": "execute_result"
    }
   ],
   "source": [
    "test_dir='./melanoma-image-data/test/test/unkown/'\n",
    "test_data = []\n",
    "for i in range(test_dataframe.shape[0]):\n",
    "    test_data.append(test_dir + test_dataframe['image_name'].iloc[i]+'.jpg')\n",
    "df_test_kaggle=pd.DataFrame(test_data)\n",
    "df_test_kaggle.columns=['images']\n",
    "df_test_kaggle.shape\n",
    "df_test_kaggle"
   ]
  },
  {
   "cell_type": "code",
   "execution_count": 77,
   "id": "7c0dcb42-2f0c-446f-b4e6-ee67542bcb77",
   "metadata": {},
   "outputs": [],
   "source": [
    "from sklearn.model_selection import train_test_split\n",
    "x_train,x_val,y_train,y_val=train_test_split(df['images'],df['target'],test_size=0.2,random_state=42,stratify=df['target'])\n",
    "\n",
    "train_gen = pd.DataFrame({'image_dir': x_train, 'target': y_train})\n",
    "val_gen = pd.DataFrame({'image_dir': x_val, 'target': y_val})"
   ]
  },
  {
   "cell_type": "code",
   "execution_count": 78,
   "id": "6b61c8c5-5fff-43cf-aba8-a1264af00763",
   "metadata": {},
   "outputs": [],
   "source": [
    "from sklearn.model_selection import train_test_split\n",
    "x_train,x_test,y_train,y_test=train_test_split(train_gen['image_dir'],train_gen['target'],test_size=0.1,random_state=42,stratify=train_gen['target'])\n",
    "\n",
    "train_gen = pd.DataFrame({'image_dir': x_train, 'target': y_train})\n",
    "test_gen = pd.DataFrame({'image_dir': x_test, 'target': y_test})"
   ]
  },
  {
   "cell_type": "code",
   "execution_count": 9,
   "id": "81bca4be-4d0e-46e1-ba3a-9a2b33137945",
   "metadata": {},
   "outputs": [
    {
     "name": "stdout",
     "output_type": "stream",
     "text": [
      "Requirement already satisfied: livelossplot in /opt/conda/lib/python3.7/site-packages (0.5.5)\n",
      "Requirement already satisfied: matplotlib in /opt/conda/lib/python3.7/site-packages (from livelossplot) (3.5.3)\n",
      "Requirement already satisfied: numpy<1.22 in /opt/conda/lib/python3.7/site-packages (from livelossplot) (1.21.6)\n",
      "Requirement already satisfied: ipython==7.* in /opt/conda/lib/python3.7/site-packages (from livelossplot) (7.34.0)\n",
      "Requirement already satisfied: bokeh in /opt/conda/lib/python3.7/site-packages (from livelossplot) (2.4.3)\n",
      "Requirement already satisfied: jedi>=0.16 in /opt/conda/lib/python3.7/site-packages (from ipython==7.*->livelossplot) (0.18.2)\n",
      "Requirement already satisfied: matplotlib-inline in /opt/conda/lib/python3.7/site-packages (from ipython==7.*->livelossplot) (0.1.6)\n",
      "Requirement already satisfied: pygments in /opt/conda/lib/python3.7/site-packages (from ipython==7.*->livelossplot) (2.14.0)\n",
      "Requirement already satisfied: pickleshare in /opt/conda/lib/python3.7/site-packages (from ipython==7.*->livelossplot) (0.7.5)\n",
      "Requirement already satisfied: traitlets>=4.2 in /opt/conda/lib/python3.7/site-packages (from ipython==7.*->livelossplot) (5.8.1)\n",
      "Requirement already satisfied: setuptools>=18.5 in /opt/conda/lib/python3.7/site-packages (from ipython==7.*->livelossplot) (66.1.1)\n",
      "Requirement already satisfied: pexpect>4.3 in /opt/conda/lib/python3.7/site-packages (from ipython==7.*->livelossplot) (4.8.0)\n",
      "Requirement already satisfied: backcall in /opt/conda/lib/python3.7/site-packages (from ipython==7.*->livelossplot) (0.2.0)\n",
      "Requirement already satisfied: decorator in /opt/conda/lib/python3.7/site-packages (from ipython==7.*->livelossplot) (5.1.1)\n",
      "Requirement already satisfied: prompt-toolkit!=3.0.0,!=3.0.1,<3.1.0,>=2.0.0 in /opt/conda/lib/python3.7/site-packages (from ipython==7.*->livelossplot) (3.0.36)\n",
      "Requirement already satisfied: Jinja2>=2.9 in /opt/conda/lib/python3.7/site-packages (from bokeh->livelossplot) (3.1.2)\n",
      "Requirement already satisfied: pillow>=7.1.0 in /opt/conda/lib/python3.7/site-packages (from bokeh->livelossplot) (9.4.0)\n",
      "Requirement already satisfied: tornado>=5.1 in /opt/conda/lib/python3.7/site-packages (from bokeh->livelossplot) (6.2)\n",
      "Requirement already satisfied: packaging>=16.8 in /opt/conda/lib/python3.7/site-packages (from bokeh->livelossplot) (23.0)\n",
      "Requirement already satisfied: PyYAML>=3.10 in /opt/conda/lib/python3.7/site-packages (from bokeh->livelossplot) (6.0)\n",
      "Requirement already satisfied: typing-extensions>=3.10.0 in /opt/conda/lib/python3.7/site-packages (from bokeh->livelossplot) (4.4.0)\n",
      "Requirement already satisfied: fonttools>=4.22.0 in /opt/conda/lib/python3.7/site-packages (from matplotlib->livelossplot) (4.38.0)\n",
      "Requirement already satisfied: kiwisolver>=1.0.1 in /opt/conda/lib/python3.7/site-packages (from matplotlib->livelossplot) (1.4.4)\n",
      "Requirement already satisfied: pyparsing>=2.2.1 in /opt/conda/lib/python3.7/site-packages (from matplotlib->livelossplot) (3.0.9)\n",
      "Requirement already satisfied: python-dateutil>=2.7 in /opt/conda/lib/python3.7/site-packages (from matplotlib->livelossplot) (2.8.2)\n",
      "Requirement already satisfied: cycler>=0.10 in /opt/conda/lib/python3.7/site-packages (from matplotlib->livelossplot) (0.11.0)\n",
      "Requirement already satisfied: parso<0.9.0,>=0.8.0 in /opt/conda/lib/python3.7/site-packages (from jedi>=0.16->ipython==7.*->livelossplot) (0.8.3)\n",
      "Requirement already satisfied: MarkupSafe>=2.0 in /opt/conda/lib/python3.7/site-packages (from Jinja2>=2.9->bokeh->livelossplot) (2.1.2)\n",
      "Requirement already satisfied: ptyprocess>=0.5 in /opt/conda/lib/python3.7/site-packages (from pexpect>4.3->ipython==7.*->livelossplot) (0.7.0)\n",
      "Requirement already satisfied: wcwidth in /opt/conda/lib/python3.7/site-packages (from prompt-toolkit!=3.0.0,!=3.0.1,<3.1.0,>=2.0.0->ipython==7.*->livelossplot) (0.2.6)\n",
      "Requirement already satisfied: six>=1.5 in /opt/conda/lib/python3.7/site-packages (from python-dateutil>=2.7->matplotlib->livelossplot) (1.16.0)\n"
     ]
    }
   ],
   "source": [
    "!pip install livelossplot"
   ]
  },
  {
   "cell_type": "code",
   "execution_count": 10,
   "id": "6bdc2f86-6fa5-4347-a038-2576ed51ce37",
   "metadata": {},
   "outputs": [
    {
     "name": "stderr",
     "output_type": "stream",
     "text": [
      "2023-03-07 11:06:46.490414: I tensorflow/core/platform/cpu_feature_guard.cc:193] This TensorFlow binary is optimized with oneAPI Deep Neural Network Library (oneDNN) to use the following CPU instructions in performance-critical operations:  AVX2 FMA\n",
      "To enable them in other operations, rebuild TensorFlow with the appropriate compiler flags.\n",
      "2023-03-07 11:06:46.659030: W tensorflow/compiler/xla/stream_executor/platform/default/dso_loader.cc:64] Could not load dynamic library 'libcudart.so.11.0'; dlerror: libcudart.so.11.0: cannot open shared object file: No such file or directory\n",
      "2023-03-07 11:06:46.659072: I tensorflow/compiler/xla/stream_executor/cuda/cudart_stub.cc:29] Ignore above cudart dlerror if you do not have a GPU set up on your machine.\n",
      "2023-03-07 11:06:47.798016: W tensorflow/compiler/xla/stream_executor/platform/default/dso_loader.cc:64] Could not load dynamic library 'libnvinfer.so.7'; dlerror: libnvinfer.so.7: cannot open shared object file: No such file or directory\n",
      "2023-03-07 11:06:47.798160: W tensorflow/compiler/xla/stream_executor/platform/default/dso_loader.cc:64] Could not load dynamic library 'libnvinfer_plugin.so.7'; dlerror: libnvinfer_plugin.so.7: cannot open shared object file: No such file or directory\n",
      "2023-03-07 11:06:47.798178: W tensorflow/compiler/tf2tensorrt/utils/py_utils.cc:38] TF-TRT Warning: Cannot dlopen some TensorRT libraries. If you would like to use Nvidia GPU with TensorRT, please make sure the missing libraries mentioned above are installed properly.\n"
     ]
    }
   ],
   "source": [
    "from keras.layers import Input,Lambda,Dense,Flatten,Conv2D, MaxPooling2D, Dropout\n",
    "from keras.applications.xception import Xception,preprocess_input\n",
    "from keras.preprocessing import image\n",
    "from keras.preprocessing.image import ImageDataGenerator\n",
    "from keras.models import Sequential\n",
    "from glob import glob\n",
    "\n",
    "from keras.layers import Dense, Flatten\n",
    "from tensorflow.keras import layers\n",
    "from keras.metrics import AUC\n",
    "from keras.activations import sigmoid\n",
    "from keras.models import Model,load_model\n",
    "\n",
    "from keras.optimizers import Adam\n",
    "import tensorflow as tf\n",
    "\n",
    "\n",
    "from tensorflow.python.keras import backend as K\n",
    "from livelossplot import PlotLossesKeras"
   ]
  },
  {
   "cell_type": "code",
   "execution_count": 108,
   "id": "be49eee6-003a-4674-b6e7-d06743fc6b12",
   "metadata": {},
   "outputs": [
    {
     "name": "stdout",
     "output_type": "stream",
     "text": [
      "Found 23850 validated image filenames.\n",
      "Found 6626 validated image filenames.\n"
     ]
    }
   ],
   "source": [
    "train_datagen = ImageDataGenerator(preprocessing_function=preprocess_input,\n",
    "                                   rotation_range=45,\n",
    "                                   width_shift_range=0.2,\n",
    "                                   height_shift_range=0.2,\n",
    "                                   zoom_range = 0.2,\n",
    "                                   fill_mode ='nearest',\n",
    "                                   horizontal_flip=True)\n",
    "val_datagen=ImageDataGenerator(preprocessing_function =preprocess_input)\n",
    "test_datagen =ImageDataGenerator(preprocessing_function =preprocess_input)\n",
    "\n",
    "\n",
    "train_generator = train_datagen.flow_from_dataframe(\n",
    "    train_gen,\n",
    "    x_col='image_dir',\n",
    "    y_col='target',\n",
    "    target_size=(224, 224),\n",
    "    batch_size=64,\n",
    "    class_mode='raw')\n",
    "\n",
    "validation_generator = val_datagen.flow_from_dataframe(\n",
    "    val_gen,\n",
    "    x_col='image_dir',\n",
    "    y_col='target',\n",
    "    target_size=(224, 224),\n",
    "    batch_size=64,\n",
    "    class_mode='raw')\n",
    "\n",
    "\n"
   ]
  },
  {
   "cell_type": "code",
   "execution_count": 12,
   "id": "74a47c7c-d614-4d18-8dd1-d5d43ba34b1f",
   "metadata": {},
   "outputs": [
    {
     "name": "stderr",
     "output_type": "stream",
     "text": [
      "2023-03-07 11:06:53.092775: W tensorflow/compiler/xla/stream_executor/platform/default/dso_loader.cc:64] Could not load dynamic library 'libcuda.so.1'; dlerror: libcuda.so.1: cannot open shared object file: No such file or directory\n",
      "2023-03-07 11:06:53.092825: W tensorflow/compiler/xla/stream_executor/cuda/cuda_driver.cc:265] failed call to cuInit: UNKNOWN ERROR (303)\n",
      "2023-03-07 11:06:53.092854: I tensorflow/compiler/xla/stream_executor/cuda/cuda_diagnostics.cc:156] kernel driver does not appear to be running on this host (skin-cancer-v2): /proc/driver/nvidia/version does not exist\n",
      "2023-03-07 11:06:53.093150: I tensorflow/core/platform/cpu_feature_guard.cc:193] This TensorFlow binary is optimized with oneAPI Deep Neural Network Library (oneDNN) to use the following CPU instructions in performance-critical operations:  AVX2 FMA\n",
      "To enable them in other operations, rebuild TensorFlow with the appropriate compiler flags.\n"
     ]
    }
   ],
   "source": [
    "\n",
    "base_model= Xception(weights='imagenet',input_shape=(224,224,3),include_top=False)\n",
    "\n",
    "for layer in base_model.layers:\n",
    "    layer.trainable = False\n",
    "    \n",
    "layer_top=Flatten()(base_model.output)\n",
    "layer_top=layers.Dense(1, activation = 'sigmoid')(layer_top)\n",
    "\n",
    "model =Model(inputs=base_model.input,outputs=layer_top)\n",
    "#model.summary()"
   ]
  },
  {
   "cell_type": "code",
   "execution_count": 28,
   "id": "bcc00177-9d9b-4524-a77b-d9864e74069f",
   "metadata": {},
   "outputs": [],
   "source": [
    "opt = Adam(lr=1e-4)\n",
    "auc = tf.keras.metrics.AUC()\n",
    "model.compile(loss='binary_crossentropy', metrics=[auc],optimizer=opt)"
   ]
  },
  {
   "cell_type": "code",
   "execution_count": 37,
   "id": "2a3bce58-fba9-470f-98ad-1a81f1fabbd0",
   "metadata": {},
   "outputs": [
    {
     "name": "stderr",
     "output_type": "stream",
     "text": [
      "/opt/conda/lib/python3.7/site-packages/ipykernel_launcher.py:26: UserWarning: `Model.fit_generator` is deprecated and will be removed in a future version. Please use `Model.fit`, which supports generators.\n"
     ]
    },
    {
     "name": "stdout",
     "output_type": "stream",
     "text": [
      "Epoch 1/30\n",
      "372/372 [==============================] - 2909s 8s/step - loss: 0.0825 - auc_2: 0.7726 - val_loss: 0.0807 - val_auc_2: 0.7612\n",
      "Epoch 2/30\n",
      "372/372 [==============================] - 2887s 8s/step - loss: 0.0807 - auc_2: 0.7816 - val_loss: 0.0947 - val_auc_2: 0.7016\n",
      "Epoch 3/30\n",
      "372/372 [==============================] - 2917s 8s/step - loss: 0.0800 - auc_2: 0.7988 - val_loss: 0.0965 - val_auc_2: 0.8115\n",
      "Epoch 4/30\n",
      "372/372 [==============================] - 2867s 8s/step - loss: 0.0786 - auc_2: 0.8089 - val_loss: 0.0827 - val_auc_2: 0.7542\n",
      "Epoch 5/30\n",
      "372/372 [==============================] - 2926s 8s/step - loss: 0.0778 - auc_2: 0.8153 - val_loss: 0.0823 - val_auc_2: 0.7679\n",
      "Epoch 6/30\n",
      "372/372 [==============================] - 2924s 8s/step - loss: 0.0782 - auc_2: 0.8065 - val_loss: 0.0781 - val_auc_2: 0.8269\n",
      "Epoch 7/30\n",
      "372/372 [==============================] - 2881s 8s/step - loss: 0.0747 - auc_2: 0.8212 - val_loss: 0.0894 - val_auc_2: 0.7377\n",
      "Epoch 8/30\n",
      "372/372 [==============================] - 2880s 8s/step - loss: 0.0768 - auc_2: 0.8100 - val_loss: 0.0822 - val_auc_2: 0.8391\n",
      "Epoch 9/30\n",
      "372/372 [==============================] - 2896s 8s/step - loss: 0.0790 - auc_2: 0.8043 - val_loss: 0.0874 - val_auc_2: 0.7492\n",
      "Epoch 10/30\n",
      "372/372 [==============================] - 2867s 8s/step - loss: 0.0800 - auc_2: 0.7980 - val_loss: 0.0837 - val_auc_2: 0.7645\n",
      "Training completed in time:  8:03:15.251864\n"
     ]
    }
   ],
   "source": [
    "from datetime import datetime\n",
    "from keras.callbacks import ModelCheckpoint,EarlyStopping\n",
    "\n",
    "\n",
    "\n",
    "mc = ModelCheckpoint(filepath='Xception_Imbalanced_AUC_model1.h5',\n",
    "                     monitor='auc_3',  # even use the generated handle for monitoring the training AUC\n",
    "                     save_best_only=True,\n",
    "                     mode='max')\n",
    "\n",
    "#Early stopping\n",
    "es = EarlyStopping(monitor = 'auc_3', patience = 3, mode='max',min_delta = 0.01)\n",
    "\n",
    "callbacks = [mc,es]\n",
    "\n",
    "start = datetime.now()\n",
    "\n",
    "\n",
    "model.fit_generator(\n",
    "    train_generator,\n",
    "    steps_per_epoch=372,\n",
    "    epochs=30,\n",
    "    validation_data=validation_generator,\n",
    "    callbacks=callbacks,\n",
    "    validation_steps=100,\n",
    "     verbose=1\n",
    "\n",
    ")\n",
    "\n",
    "\n",
    "\n",
    "duration = datetime.now() - start\n",
    "print(\"Training completed in time: \", duration)\n"
   ]
  },
  {
   "cell_type": "code",
   "execution_count": 38,
   "id": "59ad5d94-3a3d-449f-b586-98d4195e74ce",
   "metadata": {},
   "outputs": [
    {
     "name": "stderr",
     "output_type": "stream",
     "text": [
      "/opt/conda/lib/python3.7/site-packages/ipykernel_launcher.py:4: UserWarning: `Model.evaluate_generator` is deprecated and will be removed in a future version. Please use `Model.evaluate`, which supports generators.\n",
      "  after removing the cwd from sys.path.\n"
     ]
    },
    {
     "name": "stdout",
     "output_type": "stream",
     "text": [
      "42/42 [==============================] - 235s 6s/step - loss: 0.0979 - auc_2: 0.7065\n",
      " Test loss and accuracy are [0.09789910167455673, 0.7065211534500122]\n"
     ]
    }
   ],
   "source": [
    "# Load best fit model\n",
    "imbalanced_model = load_model('Xception_Imbalanced_AUC_model1.h5')\n",
    "\n",
    "results = imbalanced_model.evaluate_generator(generator=test_generator,verbose = 1)\n",
    "print(\" Test loss and accuracy are\", results)"
   ]
  },
  {
   "cell_type": "code",
   "execution_count": null,
   "id": "5130d606-7612-40a9-95d3-751ef1d5e4e8",
   "metadata": {},
   "outputs": [],
   "source": []
  },
  {
   "cell_type": "code",
   "execution_count": 109,
   "id": "afb05827-69af-4b89-95a9-1be22acf835f",
   "metadata": {},
   "outputs": [
    {
     "name": "stdout",
     "output_type": "stream",
     "text": [
      "Found 2650 validated image filenames.\n"
     ]
    }
   ],
   "source": [
    "test_generator = test_datagen.flow_from_dataframe(\n",
    "    test_gen,\n",
    "    x_col='image_dir',\n",
    "    y_col='target',\n",
    "    target_size=(224, 224),\n",
    "    batch_size=64,\n",
    "    class_mode='raw',\n",
    "    shuffle=False\n",
    ")"
   ]
  },
  {
   "cell_type": "code",
   "execution_count": 119,
   "id": "7bc26fbf-2486-4e2a-b912-b3e010046716",
   "metadata": {},
   "outputs": [
    {
     "name": "stdout",
     "output_type": "stream",
     "text": [
      "42/42 [==============================] - 234s 6s/step\n",
      "[[2.6630313e-04]\n",
      " [2.4012669e-03]\n",
      " [3.1957385e-04]\n",
      " ...\n",
      " [3.5092616e-03]\n",
      " [2.5958816e-05]\n",
      " [4.6575259e-02]]\n"
     ]
    }
   ],
   "source": [
    "# Get prediction\n",
    "imbalanced_pred = imbalanced_model.predict(test_generator,verbose = 1)\n",
    "print(imbalanced_pred)"
   ]
  },
  {
   "cell_type": "code",
   "execution_count": 90,
   "id": "b2ee3665-6e57-4b51-8035-f68e94d2c1f9",
   "metadata": {},
   "outputs": [],
   "source": [
    "import math"
   ]
  },
  {
   "cell_type": "code",
   "execution_count": 102,
   "id": "fbbb76bd-ed99-4d6c-a586-5b4d077def5c",
   "metadata": {},
   "outputs": [
    {
     "data": {
      "text/plain": [
       "19704    0\n",
       "30758    0\n",
       "10912    0\n",
       "9964     0\n",
       "8051     0\n",
       "        ..\n",
       "5358     0\n",
       "6908     0\n",
       "1119     0\n",
       "28291    0\n",
       "32541    0\n",
       "Name: target, Length: 2650, dtype: int64"
      ]
     },
     "execution_count": 102,
     "metadata": {},
     "output_type": "execute_result"
    }
   ],
   "source": [
    "test_gen.target"
   ]
  },
  {
   "cell_type": "code",
   "execution_count": 115,
   "id": "c07e116d-9315-4351-8e9b-a1db29be0ea8",
   "metadata": {},
   "outputs": [
    {
     "data": {
      "text/plain": [
       "0    2603\n",
       "1      47\n",
       "Name: target, dtype: int64"
      ]
     },
     "execution_count": 115,
     "metadata": {},
     "output_type": "execute_result"
    }
   ],
   "source": [
    "test_gen['target'].value_counts()"
   ]
  },
  {
   "cell_type": "code",
   "execution_count": 117,
   "id": "9a42c2f3-9f62-4f3f-a5e0-4f8638a5e1bf",
   "metadata": {},
   "outputs": [
    {
     "data": {
      "text/plain": [
       "array([0., 0., 0., ..., 0., 0., 0.])"
      ]
     },
     "execution_count": 117,
     "metadata": {},
     "output_type": "execute_result"
    }
   ],
   "source": [
    "y_test = np.array([])\n",
    "num_batches = 0\n",
    "for _, y in test_generator:\n",
    "    y_test = np.append(y_test, y)\n",
    "    num_batches += 1\n",
    "    if num_batches == math.ceil(2650//64):\n",
    "        break\n",
    "y_test"
   ]
  },
  {
   "cell_type": "code",
   "execution_count": 121,
   "id": "fb494147-08ef-4818-95e0-c6c96bcab50f",
   "metadata": {},
   "outputs": [
    {
     "data": {
      "image/png": "[encoded data removed]",
      "text/plain": [
       "<Figure size 640x480 with 1 Axes>"
      ]
     },
     "metadata": {},
     "output_type": "display_data"
    },
    {
     "name": "stdout",
     "output_type": "stream",
     "text": [
      "Area under curve, AUC =  0.7879124741501213\n"
     ]
    }
   ],
   "source": [
    "from sklearn.metrics import roc_curve\n",
    "\n",
    "\n",
    "fpr, tpr, thresholds = roc_curve(test_gen.target, imbalanced_pred)\n",
    "plt.figure(1)\n",
    "plt.plot([0, 1], [0, 1], 'k--')\n",
    "plt.plot(fpr, tpr, linewidth = 2, label = None)\n",
    "plt.xlabel('False positive rate')\n",
    "plt.ylabel('True positive rate')\n",
    "plt.title('ROC curve')\n",
    "plt.show()\n",
    "\n",
    "from sklearn.metrics import auc\n",
    "auc_value = auc(fpr, tpr)\n",
    "print(\"Area under curve, AUC = \", auc_value)\n",
    "\n"
   ]
  },
  {
   "cell_type": "markdown",
   "id": "1d3d07d8-483a-4d12-b529-e3fba761afec",
   "metadata": {},
   "source": [
    "# process kaggle dataset"
   ]
  },
  {
   "cell_type": "code",
   "execution_count": 135,
   "id": "f6a67f00-73d0-4180-8a85-58f547bd4f79",
   "metadata": {},
   "outputs": [
    {
     "name": "stdout",
     "output_type": "stream",
     "text": [
      "Found 10982 images belonging to 1 classes.\n"
     ]
    }
   ],
   "source": [
    "\n",
    "kaggle_test_path='./melanoma-image-data/test/test'\n",
    "test_set_kaggle = test_datagen.flow_from_directory(kaggle_test_path,\n",
    "                                             target_size = (224,224),\n",
    "                                             batch_size = 64,\n",
    "                                             class_mode = 'categorical',\n",
    "                                             shuffle=False)\n",
    "\n",
    "test_set_kaggle.reset()"
   ]
  },
  {
   "cell_type": "code",
   "execution_count": 136,
   "id": "3ecd4588-f347-4517-ac7e-004b6c0a53df",
   "metadata": {},
   "outputs": [
    {
     "name": "stderr",
     "output_type": "stream",
     "text": [
      "/opt/conda/lib/python3.7/site-packages/ipykernel_launcher.py:1: UserWarning: `Model.predict_generator` is deprecated and will be removed in a future version. Please use `Model.predict`, which supports generators.\n",
      "  \"\"\"Entry point for launching an IPython kernel.\n"
     ]
    },
    {
     "name": "stdout",
     "output_type": "stream",
     "text": [
      "172/172 [==============================] - 905s 5s/step\n",
      "[[3.7437243e-05]\n",
      " [2.7310030e-05]\n",
      " [1.2810072e-03]\n",
      " ...\n",
      " [2.0076777e-03]\n",
      " [1.5700646e-04]\n",
      " [1.6786133e-04]]\n"
     ]
    }
   ],
   "source": [
    "kaggle_pred_test = imbalanced_model.predict_generator(test_set_kaggle,verbose=1)\n",
    "print(kaggle_pred_test)"
   ]
  },
  {
   "cell_type": "code",
   "execution_count": 137,
   "id": "06b54cb8-06ae-4b3f-b2fd-15a358b0f0fa",
   "metadata": {},
   "outputs": [],
   "source": [
    "# Malignent Prediction\n",
    "imbalanced_predict_malignent=[]\n",
    "for i in range(len(kaggle_pred_test)):\n",
    "    imbalanced_predict_malignent.append(1-kaggle_pred_test[i]) \n",
    "\n",
    "#print(imbalanced_predict_class_kaggle)\n",
    "imbalanced_np_malignent=np.asarray(imbalanced_predict_malignent, dtype=None)\n",
    "imbalanced_np_malignent=imbalanced_np_malignent.ravel()"
   ]
  },
  {
   "cell_type": "code",
   "execution_count": 138,
   "id": "d823878e-542b-4cae-b997-2e235037dbc2",
   "metadata": {},
   "outputs": [],
   "source": [
    "import pandas as pd\n",
    "filenames=test_set_kaggle.filenames\n",
    "results=pd.DataFrame({\"image_name\":filenames,\n",
    "                      \"target\":imbalanced_np_malignent})\n",
    "results.to_csv(\"Xception_imbalanced_final_results_kaggle.csv\",index=False)"
   ]
  },
  {
   "cell_type": "markdown",
   "id": "ed550958-bd6b-446f-b870-ab8ed77e348c",
   "metadata": {},
   "source": [
    "# class balanced focal loss"
   ]
  },
  {
   "cell_type": "code",
   "execution_count": 45,
   "id": "91039167-19f4-4b7d-83ed-dfff41d2b536",
   "metadata": {},
   "outputs": [
    {
     "data": {
      "text/plain": [
       "0    23430\n",
       "1      420\n",
       "Name: target, dtype: int64"
      ]
     },
     "execution_count": 45,
     "metadata": {},
     "output_type": "execute_result"
    }
   ],
   "source": [
    "train_gen['target'].value_counts()"
   ]
  },
  {
   "cell_type": "code",
   "execution_count": 46,
   "id": "9349cacd-1ee2-40bb-942f-e042e6798d2c",
   "metadata": {},
   "outputs": [
    {
     "name": "stdout",
     "output_type": "stream",
     "text": [
      "0.5108978868851661\n",
      "1.4891021131148336\n"
     ]
    }
   ],
   "source": [
    "def calculate_alpha(beta = 0.999):\n",
    "     bening_sample=[23430,420]\n",
    "     effective_num=1-np.power(beta,bening_sample)\n",
    "     weights=(1.0-beta)/np.array(effective_num)\n",
    "     weights=weights/np.sum(weights)*2\n",
    "     return weights\n",
    "\n",
    "alpha=calculate_alpha()\n",
    "print(alpha[0])\n",
    "print(alpha[1])"
   ]
  },
  {
   "cell_type": "code",
   "execution_count": 59,
   "id": "25de5749-0d82-45ed-8fcd-0e46b9b36ee5",
   "metadata": {},
   "outputs": [],
   "source": [
    "opt = Adam(lr=0.0001)\n",
    "auc = tf.keras.metrics.AUC()\n",
    "\n",
    "model.compile(loss=tf.keras.losses.BinaryFocalCrossentropy(\n",
    "    alpha=alpha[0],\n",
    "    gamma=1),\n",
    "    optimizer = opt,\n",
    "    metrics =[auc])"
   ]
  },
  {
   "cell_type": "code",
   "execution_count": 61,
   "id": "fe1e4c3b-e72b-4d43-abd0-6a3949c60c55",
   "metadata": {},
   "outputs": [
    {
     "name": "stderr",
     "output_type": "stream",
     "text": [
      "/opt/conda/lib/python3.7/site-packages/ipykernel_launcher.py:26: UserWarning: `Model.fit_generator` is deprecated and will be removed in a future version. Please use `Model.fit`, which supports generators.\n"
     ]
    },
    {
     "name": "stdout",
     "output_type": "stream",
     "text": [
      "Epoch 1/30\n",
      "372/372 [==============================] - 2906s 8s/step - loss: 0.0493 - auc_6: 0.8464 - val_loss: 0.0540 - val_auc_6: 0.7810\n",
      "Epoch 2/30\n",
      "372/372 [==============================] - 2929s 8s/step - loss: 0.0491 - auc_6: 0.8314 - val_loss: 0.0593 - val_auc_6: 0.7613\n",
      "Epoch 3/30\n",
      "372/372 [==============================] - 2840s 8s/step - loss: 0.0446 - auc_6: 0.8414 - val_loss: 0.0605 - val_auc_6: 0.7469\n",
      "Epoch 4/30\n",
      "372/372 [==============================] - 2907s 8s/step - loss: 0.0493 - auc_6: 0.8205 - val_loss: 0.0628 - val_auc_6: 0.7569\n",
      "Training completed in time:  3:13:06.864298\n"
     ]
    }
   ],
   "source": [
    "from datetime import datetime\n",
    "from keras.callbacks import ModelCheckpoint,EarlyStopping\n",
    "\n",
    "\n",
    "\n",
    "mc = ModelCheckpoint(filepath='Xception_focal_AUC_model1.h5',\n",
    "                     monitor='auc_6',  # even use the generated handle for monitoring the training AUC\n",
    "                     save_best_only=True,\n",
    "                     mode='max')\n",
    "\n",
    "#Early stopping\n",
    "es = EarlyStopping(monitor = 'auc_6', patience = 3, mode='max',min_delta = 0.01)\n",
    "\n",
    "callbacks = [mc,es]\n",
    "\n",
    "start = datetime.now()\n",
    "\n",
    "\n",
    "model.fit_generator(\n",
    "    train_generator,\n",
    "    steps_per_epoch=372,\n",
    "    epochs=30,\n",
    "    validation_data=validation_generator,\n",
    "    callbacks=callbacks,\n",
    "    validation_steps=100,\n",
    "    verbose=1\n",
    "\n",
    ")\n",
    "\n",
    "\n",
    "\n",
    "duration = datetime.now() - start\n",
    "print(\"Training completed in time: \", duration)\n"
   ]
  },
  {
   "cell_type": "code",
   "execution_count": 62,
   "id": "43d86a59-2c84-4823-9b45-cad0f14ee549",
   "metadata": {},
   "outputs": [
    {
     "name": "stderr",
     "output_type": "stream",
     "text": [
      "/opt/conda/lib/python3.7/site-packages/ipykernel_launcher.py:7: UserWarning: `Model.evaluate_generator` is deprecated and will be removed in a future version. Please use `Model.evaluate`, which supports generators.\n",
      "  import sys\n"
     ]
    },
    {
     "name": "stdout",
     "output_type": "stream",
     "text": [
      "42/42 [==============================] - 222s 5s/step - loss: 0.0578 - auc_6: 0.7697\n",
      " Test loss and accuracy are [0.05781017243862152, 0.7696970105171204]\n"
     ]
    }
   ],
   "source": [
    "#load best model\n",
    "from keras.models import load_model\n",
    "\n",
    "# Load best fit model\n",
    "focalloss_model = load_model('Xception_focal_AUC_model1.h5')\n",
    "\n",
    "results = focalloss_model.evaluate_generator(generator=test_generator,verbose = 1)\n",
    "print(\" Test loss and accuracy are\", results)"
   ]
  },
  {
   "cell_type": "code",
   "execution_count": 122,
   "id": "a3bd7360-5388-4319-91ce-5c632f208b8b",
   "metadata": {},
   "outputs": [
    {
     "name": "stdout",
     "output_type": "stream",
     "text": [
      "42/42 [==============================] - 236s 6s/step\n",
      "[[0.00290892]\n",
      " [0.02386485]\n",
      " [0.00778354]\n",
      " ...\n",
      " [0.19264562]\n",
      " [0.00239917]\n",
      " [0.12711811]]\n"
     ]
    }
   ],
   "source": [
    "\n",
    "focal_pred = focalloss_model.predict(test_generator,verbose = 1)\n",
    "print(focal_pred)"
   ]
  },
  {
   "cell_type": "code",
   "execution_count": 139,
   "id": "5697a6d8-6f4a-4109-aa48-f71d76abf9ee",
   "metadata": {},
   "outputs": [
    {
     "data": {
      "image/png": "[encoded data removed]",
      "text/plain": [
       "<Figure size 640x480 with 1 Axes>"
      ]
     },
     "metadata": {},
     "output_type": "display_data"
    },
    {
     "name": "stdout",
     "output_type": "stream",
     "text": [
      "Area under curve, AUC =  0.7707309896110052\n"
     ]
    }
   ],
   "source": [
    "from sklearn.metrics import roc_curve\n",
    "\n",
    "\n",
    "fpr, tpr, thresholds = roc_curve(test_gen.target, focal_pred)\n",
    "plt.figure(1)\n",
    "plt.plot([0, 1], [0, 1], 'k--')\n",
    "plt.plot(fpr, tpr, linewidth = 2, label = None)\n",
    "plt.xlabel('False positive rate')\n",
    "plt.ylabel('True positive rate')\n",
    "plt.title('ROC curve')\n",
    "plt.show()\n",
    "\n",
    "from sklearn.metrics import auc\n",
    "auc_value = auc(fpr, tpr)\n",
    "print(\"Area under curve, AUC = \", auc_value)"
   ]
  },
  {
   "cell_type": "code",
   "execution_count": 140,
   "id": "eac71b05-0b06-43ad-9f8f-dbade8072a5d",
   "metadata": {},
   "outputs": [
    {
     "name": "stderr",
     "output_type": "stream",
     "text": [
      "/opt/conda/lib/python3.7/site-packages/ipykernel_launcher.py:1: UserWarning: `Model.predict_generator` is deprecated and will be removed in a future version. Please use `Model.predict`, which supports generators.\n",
      "  \"\"\"Entry point for launching an IPython kernel.\n"
     ]
    },
    {
     "name": "stdout",
     "output_type": "stream",
     "text": [
      "172/172 [==============================] - 893s 5s/step\n",
      "[[0.00104287]\n",
      " [0.00717582]\n",
      " [0.02538784]\n",
      " ...\n",
      " [0.12838204]\n",
      " [0.01767003]\n",
      " [0.04937518]]\n"
     ]
    }
   ],
   "source": [
    "kaggle_pred_test = focalloss_model.predict_generator(test_set_kaggle,verbose=1)\n",
    "print(kaggle_pred_test)"
   ]
  },
  {
   "cell_type": "code",
   "execution_count": 141,
   "id": "563593ad-5df7-46ac-b66e-8743d7e84ae1",
   "metadata": {},
   "outputs": [],
   "source": [
    "# Malignent Prediction\n",
    "focalloss_predict_malignent=[]\n",
    "for i in range(len(kaggle_pred_test)):\n",
    "    focalloss_predict_malignent.append(1-kaggle_pred_test[i]) \n",
    "\n",
    "#print(imbalanced_predict_class_kaggle)\n",
    "focalloss_np_malignent=np.asarray(focalloss_predict_malignent, dtype=None)\n",
    "focalloss_np_malignent=focalloss_np_malignent.ravel()"
   ]
  },
  {
   "cell_type": "code",
   "execution_count": 142,
   "id": "b363f3ed-50d2-4012-afc5-b165faf4a945",
   "metadata": {},
   "outputs": [],
   "source": [
    "import pandas as pd\n",
    "filenames=test_set_kaggle.filenames\n",
    "results=pd.DataFrame({\"image_name\":filenames,\n",
    "                      \"target\":focalloss_np_malignent})\n",
    "results.to_csv(\"Xception_focalloss_resultsV1.csv\",index=False)"
   ]
  },
  {
   "cell_type": "markdown",
   "id": "b26b30d9-6536-4d6d-aaab-75184cb55aa0",
   "metadata": {},
   "source": [
    "# balanced using inverse class frequency"
   ]
  },
  {
   "cell_type": "code",
   "execution_count": 69,
   "id": "f6a2e43c-7d48-48fb-873b-2c23a387a6e2",
   "metadata": {},
   "outputs": [],
   "source": [
    "opt = Adam(lr=0.0001)\n",
    "auc = tf.keras.metrics.AUC()\n",
    "model.compile(loss='binary_crossentropy', metrics=[auc],optimizer=opt)"
   ]
  },
  {
   "cell_type": "code",
   "execution_count": 70,
   "id": "3cc728d5-b2b7-4323-a56a-45a85c2026d6",
   "metadata": {},
   "outputs": [],
   "source": [
    "x_train, y_train=next(train_generator)"
   ]
  },
  {
   "cell_type": "code",
   "execution_count": 80,
   "id": "26b55f98-6d5a-43a5-9cd5-b042e4f42b84",
   "metadata": {},
   "outputs": [
    {
     "data": {
      "text/plain": [
       "{0: 0.5089628681177977, 1: 28.392857142857142}"
      ]
     },
     "execution_count": 80,
     "metadata": {},
     "output_type": "execute_result"
    }
   ],
   "source": [
    "train_classes=y_train\n",
    "from sklearn.utils import compute_class_weight\n",
    "\n",
    "class_weights = compute_class_weight(\n",
    "                                        class_weight = 'balanced',\n",
    "                                        classes = np.unique(train_classes),\n",
    "                                        y = train_classes\n",
    ") \n",
    "class_weights = dict(zip(np.unique(train_classes),class_weights))\n",
    "class_weights"
   ]
  },
  {
   "cell_type": "code",
   "execution_count": 82,
   "id": "3347ccec-3ce0-4010-a011-51013ca173be",
   "metadata": {},
   "outputs": [
    {
     "name": "stderr",
     "output_type": "stream",
     "text": [
      "/opt/conda/lib/python3.7/site-packages/ipykernel_launcher.py:27: UserWarning: `Model.fit_generator` is deprecated and will be removed in a future version. Please use `Model.fit`, which supports generators.\n"
     ]
    },
    {
     "name": "stdout",
     "output_type": "stream",
     "text": [
      "Epoch 1/30\n",
      "372/372 [==============================] - 2933s 8s/step - loss: 0.5201 - auc_8: 0.8461 - val_loss: 0.2571 - val_auc_8: 0.7825\n",
      "Epoch 2/30\n",
      "372/372 [==============================] - 3026s 8s/step - loss: 0.4935 - auc_8: 0.8641 - val_loss: 0.2988 - val_auc_8: 0.8110\n",
      "Epoch 3/30\n",
      "372/372 [==============================] - 3047s 8s/step - loss: 0.5559 - auc_8: 0.8501 - val_loss: 0.2312 - val_auc_8: 0.8240\n",
      "Epoch 4/30\n",
      "372/372 [==============================] - 3017s 8s/step - loss: 0.4858 - auc_8: 0.8697 - val_loss: 0.8201 - val_auc_8: 0.7966\n",
      "Epoch 5/30\n",
      "372/372 [==============================] - 3076s 8s/step - loss: 0.5428 - auc_8: 0.8581 - val_loss: 0.5069 - val_auc_8: 0.7964\n",
      "Training completed in time:  4:11:48.398087\n"
     ]
    }
   ],
   "source": [
    "from datetime import datetime\n",
    "from keras.callbacks import ModelCheckpoint,EarlyStopping\n",
    "\n",
    "\n",
    "\n",
    "mc = ModelCheckpoint(filepath='Xception_balanced_inverse_AUC_model1.h5',\n",
    "                     monitor='auc_8',  # even use the generated handle for monitoring the training AUC\n",
    "                     save_best_only=True,\n",
    "                     mode='max')\n",
    "\n",
    "#Early stopping\n",
    "es = EarlyStopping(monitor = 'auc_8', patience = 3, mode='max',min_delta = 0.01)\n",
    "\n",
    "callbacks = [mc,es]\n",
    "\n",
    "start = datetime.now()\n",
    "\n",
    "\n",
    "model.fit_generator(\n",
    "    train_generator,\n",
    "    steps_per_epoch=372,\n",
    "    epochs=30,\n",
    "    validation_data=validation_generator,\n",
    "    callbacks=callbacks,\n",
    "    validation_steps=100,\n",
    "    class_weight=class_weights,\n",
    "     verbose=1\n",
    "\n",
    ")\n",
    "\n",
    "\n",
    "\n",
    "duration = datetime.now() - start\n",
    "print(\"Training completed in time: \", duration)\n"
   ]
  },
  {
   "cell_type": "code",
   "execution_count": 126,
   "id": "224cad29-3381-497f-91d6-c672e01f034d",
   "metadata": {},
   "outputs": [
    {
     "name": "stderr",
     "output_type": "stream",
     "text": [
      "/opt/conda/lib/python3.7/site-packages/ipykernel_launcher.py:7: UserWarning: `Model.evaluate_generator` is deprecated and will be removed in a future version. Please use `Model.evaluate`, which supports generators.\n",
      "  import sys\n"
     ]
    },
    {
     "name": "stdout",
     "output_type": "stream",
     "text": [
      "42/42 [==============================] - 248s 6s/step - loss: 0.8577 - auc_8: 0.7740\n",
      " Test loss and accuracy are [0.8577170372009277, 0.7739678025245667]\n"
     ]
    }
   ],
   "source": [
    "#load best model\n",
    "from keras.models import load_model\n",
    "\n",
    "# Load best fit model\n",
    "weighted_model = load_model('Xception_balanced_inverse_AUC_model1.h5')\n",
    "\n",
    "results = weighted_model.evaluate_generator(generator=test_generator,verbose = 1)\n",
    "print(\" Test loss and accuracy are\", results)"
   ]
  },
  {
   "cell_type": "code",
   "execution_count": 124,
   "id": "81547acd-8cb3-408e-b63e-db988deeb50b",
   "metadata": {},
   "outputs": [
    {
     "name": "stdout",
     "output_type": "stream",
     "text": [
      "42/42 [==============================] - 236s 6s/step\n",
      "[[0.43849343]\n",
      " [0.35091457]\n",
      " [0.03907391]\n",
      " ...\n",
      " [0.41689116]\n",
      " [0.00502644]\n",
      " [0.99748236]]\n"
     ]
    }
   ],
   "source": [
    "balanced_pred = weighted_model.predict(test_generator,verbose = 1)\n",
    "print(balanced_pred)"
   ]
  },
  {
   "cell_type": "code",
   "execution_count": 125,
   "id": "f753ce9b-dd6e-4ee5-998c-0340a08fdfe8",
   "metadata": {},
   "outputs": [
    {
     "data": {
      "image/png": "[encoded data removed]",
      "text/plain": [
       "<Figure size 640x480 with 1 Axes>"
      ]
     },
     "metadata": {},
     "output_type": "display_data"
    },
    {
     "name": "stdout",
     "output_type": "stream",
     "text": [
      "Area under curve, AUC =  0.7742621034649054\n"
     ]
    }
   ],
   "source": [
    "from sklearn.metrics import roc_curve\n",
    "\n",
    "\n",
    "fpr, tpr, thresholds = roc_curve(test_gen.target, balanced_pred)\n",
    "plt.figure(1)\n",
    "plt.plot([0, 1], [0, 1], 'y--')\n",
    "plt.plot(fpr, tpr, marker='.')\n",
    "plt.xlabel('False positive rate')\n",
    "plt.ylabel('True positive rate')\n",
    "plt.title('ROC curve')\n",
    "plt.show()\n",
    "\n",
    "from sklearn.metrics import auc\n",
    "auc_value = auc(fpr, tpr)\n",
    "print(\"Area under curve, AUC = \", auc_value)"
   ]
  },
  {
   "cell_type": "code",
   "execution_count": 143,
   "id": "d9ab769b-1934-401f-99c8-23136d887d49",
   "metadata": {},
   "outputs": [
    {
     "name": "stderr",
     "output_type": "stream",
     "text": [
      "/opt/conda/lib/python3.7/site-packages/ipykernel_launcher.py:1: UserWarning: `Model.predict_generator` is deprecated and will be removed in a future version. Please use `Model.predict`, which supports generators.\n",
      "  \"\"\"Entry point for launching an IPython kernel.\n"
     ]
    },
    {
     "name": "stdout",
     "output_type": "stream",
     "text": [
      "172/172 [==============================] - 826s 5s/step\n",
      "[[0.01317419]\n",
      " [0.08964346]\n",
      " [0.11958716]\n",
      " ...\n",
      " [0.83931553]\n",
      " [0.2948755 ]\n",
      " [0.4836124 ]]\n"
     ]
    }
   ],
   "source": [
    "kaggle_pred_test = weighted_model.predict_generator(test_set_kaggle,verbose=1)\n",
    "print(kaggle_pred_test)"
   ]
  },
  {
   "cell_type": "code",
   "execution_count": 144,
   "id": "6e458906-4491-4d14-806c-9565d4ea61aa",
   "metadata": {},
   "outputs": [],
   "source": [
    "# Malignent Prediction\n",
    "weighted_predict_malignent=[]\n",
    "for i in range(len(kaggle_pred_test)):\n",
    "    weighted_predict_malignent.append(1-kaggle_pred_test[i]) \n",
    "\n",
    "#print(imbalanced_predict_class_kaggle)\n",
    "weighted_predict_malignent=np.asarray(weighted_predict_malignent, dtype=None)\n",
    "weighted_predict_malignent=weighted_predict_malignent.ravel()"
   ]
  },
  {
   "cell_type": "code",
   "execution_count": 145,
   "id": "6b310717-1e20-48d9-9713-136f571ac665",
   "metadata": {},
   "outputs": [],
   "source": [
    "import pandas as pd\n",
    "filenames=test_set_kaggle.filenames\n",
    "results=pd.DataFrame({\"image_name\":filenames,\n",
    "                      \"target\":weighted_predict_malignent})\n",
    "results.to_csv(\"xception_weighted_resultsV1.csv\",index=False)"
   ]
  },
  {
   "cell_type": "markdown",
   "id": "f2afca8a-a2ee-4829-abbd-807e3d1e4064",
   "metadata": {},
   "source": [
    "# Model with average / sum Ensemble"
   ]
  },
  {
   "cell_type": "code",
   "execution_count": 146,
   "id": "ca5a01f4-cfa4-4ec2-94f0-9c6dd15ccc2c",
   "metadata": {},
   "outputs": [
    {
     "name": "stdout",
     "output_type": "stream",
     "text": [
      "42/42 [==============================] - 232s 5s/step\n",
      "42/42 [==============================] - 228s 5s/step\n",
      "42/42 [==============================] - 235s 6s/step\n"
     ]
    }
   ],
   "source": [
    "\n",
    "from keras.models import load_model\n",
    "from sklearn.metrics import accuracy_score\n",
    "\n",
    "model1 = load_model('Xception_Imbalanced_AUC_model1.h5')\n",
    "model2 = load_model('Xception_focal_AUC_model1.h5')\n",
    "model3 = load_model('Xception_balanced_inverse_AUC_model1.h5')\n",
    "\n",
    "\n",
    "models = [model1, model2,model3]\n",
    "\n",
    "preds = [model.predict(test_generator) for model in models]\n",
    "preds=np.array(preds)\n",
    "summed = np.sum(preds, axis=0)\n"
   ]
  },
  {
   "cell_type": "code",
   "execution_count": 129,
   "id": "3b3363f9-0094-4399-8c90-01476c3c7497",
   "metadata": {},
   "outputs": [
    {
     "name": "stdout",
     "output_type": "stream",
     "text": [
      "42/42 [==============================] - 245s 6s/step - loss: 0.0578 - auc_6: 0.7697\n",
      "42/42 [==============================] - 234s 6s/step - loss: 0.8577 - auc_8: 0.7740\n"
     ]
    }
   ],
   "source": [
    "preds = [model.evaluate(test_generator) for model in models]\n",
    "preds=np.array(preds)\n",
    "summed_evaluate = np.sum(preds, axis=0)\n"
   ]
  },
  {
   "cell_type": "code",
   "execution_count": 132,
   "id": "1c0d4d2c-dd1a-4d1e-99e7-7fa4954cc3be",
   "metadata": {},
   "outputs": [
    {
     "name": "stdout",
     "output_type": "stream",
     "text": [
      "[0.45776361 0.77183241]\n"
     ]
    }
   ],
   "source": [
    "avg_evaluate = np.average(preds, axis=0)\n",
    "print(avg_evaluate)"
   ]
  },
  {
   "cell_type": "code",
   "execution_count": 147,
   "id": "8baa831a-ef23-4553-88b3-8610818acebe",
   "metadata": {},
   "outputs": [
    {
     "data": {
      "image/png": "[encoded data removed]",
      "text/plain": [
       "<Figure size 640x480 with 1 Axes>"
      ]
     },
     "metadata": {},
     "output_type": "display_data"
    },
    {
     "name": "stdout",
     "output_type": "stream",
     "text": [
      "Area under curve, AUC =  0.7800573806001259\n"
     ]
    }
   ],
   "source": [
    "from sklearn.metrics import roc_curve\n",
    "\n",
    "\n",
    "fpr, tpr, thresholds = roc_curve(test_gen.target, summed)\n",
    "plt.figure(1)\n",
    "plt.plot([0, 1], [0, 1], 'y--')\n",
    "plt.plot(fpr, tpr, marker='.')\n",
    "plt.xlabel('False positive rate')\n",
    "plt.ylabel('True positive rate')\n",
    "plt.title('ROC curve')\n",
    "plt.show()\n",
    "\n",
    "from sklearn.metrics import auc\n",
    "auc_value = auc(fpr, tpr)\n",
    "print(\"Area under curve, AUC = \", auc_value)"
   ]
  },
  {
   "cell_type": "code",
   "execution_count": 148,
   "id": "e33c82f3-3d15-41ae-92f0-5bc7e006a6c8",
   "metadata": {},
   "outputs": [
    {
     "name": "stdout",
     "output_type": "stream",
     "text": [
      "172/172 [==============================] - 849s 5s/step\n",
      "172/172 [==============================] - 829s 5s/step\n",
      "172/172 [==============================] - 830s 5s/step\n"
     ]
    }
   ],
   "source": [
    "kaggle_pred_test= [model.predict(test_set_kaggle,verbose=1) for model in models]\n",
    "kaggle_pred_test=np.array(kaggle_pred_test)\n",
    "summed_kaggle_pred_test = np.sum(kaggle_pred_test, axis=0)\n"
   ]
  },
  {
   "cell_type": "code",
   "execution_count": 151,
   "id": "d43c2188-226f-4926-8cba-3f9d7c3bf710",
   "metadata": {},
   "outputs": [],
   "source": [
    "ensemble_predict_malignent=np.asarray(summed_kaggle_pred_test, dtype=None)\n",
    "ensemble_predict_malignent=ensemble_predict_malignent.ravel()\n",
    "\n",
    "import pandas as pd\n",
    "filenames=test_set_kaggle.filenames\n",
    "results=pd.DataFrame({\"image_name\":filenames,\n",
    "                      \"target\":ensemble_predict_malignent})\n",
    "results.to_csv(\"Xception_Ensemble_resultsV1.csv\",index=False)"
   ]
  },
  {
   "cell_type": "code",
   "execution_count": null,
   "id": "d3bce543-e0c9-46fa-affc-e2ad27fef573",
   "metadata": {},
   "outputs": [],
   "source": []
  }
 ],
 "metadata": {
  "environment": {
   "kernel": "python3",
   "name": "common-cpu.m103",
   "type": "gcloud",
   "uri": "gcr.io/deeplearning-platform-release/base-cpu:m103"
  },
  "kernelspec": {
   "display_name": "Python 3",
   "language": "python",
   "name": "python3"
  },
  "language_info": {
   "codemirror_mode": {
    "name": "ipython",
    "version": 3
   },
   "file_extension": ".py",
   "mimetype": "text/x-python",
   "name": "python",
   "nbconvert_exporter": "python",
   "pygments_lexer": "ipython3",
   "version": "3.7.12"
  }
 },
 "nbformat": 4,
 "nbformat_minor": 5
}
