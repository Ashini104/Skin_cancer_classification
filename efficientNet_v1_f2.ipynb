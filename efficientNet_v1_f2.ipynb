{
 "cells": [
  {
   "cell_type": "code",
   "execution_count": 1,
   "id": "94d34367-b524-40c9-aa98-80e86a0d66d0",
   "metadata": {},
   "outputs": [],
   "source": [
    "import os\n",
    "import numpy as np\n",
    "import pandas as pd\n",
    "import matplotlib.pyplot as plt"
   ]
  },
  {
   "cell_type": "code",
   "execution_count": 2,
   "id": "aa9df530-2b9d-4a28-83da-b9eb05358a30",
   "metadata": {},
   "outputs": [
    {
     "data": {
      "text/html": [
       "<div>\n",
       "<style scoped>\n",
       "    .dataframe tbody tr th:only-of-type {\n",
       "        vertical-align: middle;\n",
       "    }\n",
       "\n",
       "    .dataframe tbody tr th {\n",
       "        vertical-align: top;\n",
       "    }\n",
       "\n",
       "    .dataframe thead th {\n",
       "        text-align: right;\n",
       "    }\n",
       "</style>\n",
       "<table border=\"1\" class=\"dataframe\">\n",
       "  <thead>\n",
       "    <tr style=\"text-align: right;\">\n",
       "      <th></th>\n",
       "      <th>image_name</th>\n",
       "      <th>patient_id</th>\n",
       "      <th>sex</th>\n",
       "      <th>age_approx</th>\n",
       "      <th>anatom_site_general_challenge</th>\n",
       "      <th>diagnosis</th>\n",
       "      <th>benign_malignant</th>\n",
       "      <th>target</th>\n",
       "    </tr>\n",
       "  </thead>\n",
       "  <tbody>\n",
       "    <tr>\n",
       "      <th>0</th>\n",
       "      <td>ISIC_2637011</td>\n",
       "      <td>IP_7279968</td>\n",
       "      <td>male</td>\n",
       "      <td>45.0</td>\n",
       "      <td>head/neck</td>\n",
       "      <td>unknown</td>\n",
       "      <td>benign</td>\n",
       "      <td>0</td>\n",
       "    </tr>\n",
       "    <tr>\n",
       "      <th>1</th>\n",
       "      <td>ISIC_0015719</td>\n",
       "      <td>IP_3075186</td>\n",
       "      <td>female</td>\n",
       "      <td>45.0</td>\n",
       "      <td>upper extremity</td>\n",
       "      <td>unknown</td>\n",
       "      <td>benign</td>\n",
       "      <td>0</td>\n",
       "    </tr>\n",
       "    <tr>\n",
       "      <th>2</th>\n",
       "      <td>ISIC_0052212</td>\n",
       "      <td>IP_2842074</td>\n",
       "      <td>female</td>\n",
       "      <td>50.0</td>\n",
       "      <td>lower extremity</td>\n",
       "      <td>nevus</td>\n",
       "      <td>benign</td>\n",
       "      <td>0</td>\n",
       "    </tr>\n",
       "    <tr>\n",
       "      <th>3</th>\n",
       "      <td>ISIC_0068279</td>\n",
       "      <td>IP_6890425</td>\n",
       "      <td>female</td>\n",
       "      <td>45.0</td>\n",
       "      <td>head/neck</td>\n",
       "      <td>unknown</td>\n",
       "      <td>benign</td>\n",
       "      <td>0</td>\n",
       "    </tr>\n",
       "    <tr>\n",
       "      <th>4</th>\n",
       "      <td>ISIC_0074268</td>\n",
       "      <td>IP_8723313</td>\n",
       "      <td>female</td>\n",
       "      <td>55.0</td>\n",
       "      <td>upper extremity</td>\n",
       "      <td>unknown</td>\n",
       "      <td>benign</td>\n",
       "      <td>0</td>\n",
       "    </tr>\n",
       "    <tr>\n",
       "      <th>5</th>\n",
       "      <td>ISIC_0074311</td>\n",
       "      <td>IP_2950485</td>\n",
       "      <td>female</td>\n",
       "      <td>40.0</td>\n",
       "      <td>lower extremity</td>\n",
       "      <td>unknown</td>\n",
       "      <td>benign</td>\n",
       "      <td>0</td>\n",
       "    </tr>\n",
       "    <tr>\n",
       "      <th>6</th>\n",
       "      <td>ISIC_0074542</td>\n",
       "      <td>IP_4698288</td>\n",
       "      <td>male</td>\n",
       "      <td>25.0</td>\n",
       "      <td>lower extremity</td>\n",
       "      <td>unknown</td>\n",
       "      <td>benign</td>\n",
       "      <td>0</td>\n",
       "    </tr>\n",
       "  </tbody>\n",
       "</table>\n",
       "</div>"
      ],
      "text/plain": [
       "     image_name  patient_id     sex  age_approx anatom_site_general_challenge  \\\n",
       "0  ISIC_2637011  IP_7279968    male        45.0                     head/neck   \n",
       "1  ISIC_0015719  IP_3075186  female        45.0               upper extremity   \n",
       "2  ISIC_0052212  IP_2842074  female        50.0               lower extremity   \n",
       "3  ISIC_0068279  IP_6890425  female        45.0                     head/neck   \n",
       "4  ISIC_0074268  IP_8723313  female        55.0               upper extremity   \n",
       "5  ISIC_0074311  IP_2950485  female        40.0               lower extremity   \n",
       "6  ISIC_0074542  IP_4698288    male        25.0               lower extremity   \n",
       "\n",
       "  diagnosis benign_malignant  target  \n",
       "0   unknown           benign       0  \n",
       "1   unknown           benign       0  \n",
       "2     nevus           benign       0  \n",
       "3   unknown           benign       0  \n",
       "4   unknown           benign       0  \n",
       "5   unknown           benign       0  \n",
       "6   unknown           benign       0  "
      ]
     },
     "execution_count": 2,
     "metadata": {},
     "output_type": "execute_result"
    }
   ],
   "source": [
    "training_csv='./melanoma-image-data/train.csv'\n",
    "test_csv='./melanoma-image-data/test.csv'\n",
    "train_dataframe=pd.read_csv(training_csv)\n",
    "test_dataframe=pd.read_csv(test_csv)\n",
    "train_dataframe.head(7)"
   ]
  },
  {
   "cell_type": "code",
   "execution_count": 3,
   "id": "b100e5c7-0a8d-4189-afba-74796bceb1ab",
   "metadata": {},
   "outputs": [
    {
     "data": {
      "text/plain": [
       "0    32542\n",
       "1      584\n",
       "Name: target, dtype: int64"
      ]
     },
     "execution_count": 3,
     "metadata": {},
     "output_type": "execute_result"
    }
   ],
   "source": [
    "train_dataframe['target'].value_counts()"
   ]
  },
  {
   "cell_type": "code",
   "execution_count": 4,
   "id": "74f5d2ec-f107-4952-bf61-cea4c862c4f8",
   "metadata": {},
   "outputs": [
    {
     "name": "stdout",
     "output_type": "stream",
     "text": [
      "32542\n",
      "584\n"
     ]
    }
   ],
   "source": [
    "benign_data=train_dataframe[train_dataframe['target']==0]\n",
    "maligant_data=train_dataframe[train_dataframe['target']==1]\n",
    "\n",
    "benign_data=benign_data.reset_index()\n",
    "maligant_data=maligant_data.reset_index()\n",
    "\n",
    "print(benign_data.shape[0])\n",
    "print(maligant_data.shape[0])"
   ]
  },
  {
   "cell_type": "code",
   "execution_count": 5,
   "id": "0bc0ab4c-cc4c-4b46-ba51-279e7c94b018",
   "metadata": {},
   "outputs": [
    {
     "name": "stdout",
     "output_type": "stream",
     "text": [
      "(32542, 2)\n",
      "(584, 2)\n"
     ]
    },
    {
     "data": {
      "text/plain": [
       "(33126, 2)"
      ]
     },
     "execution_count": 5,
     "metadata": {},
     "output_type": "execute_result"
    }
   ],
   "source": [
    "#train_bening_data\n",
    "train_benign_dir='./melanoma-image-data/train/train/benign/'\n",
    "data_benign = []\n",
    "labels_benign =[]\n",
    "\n",
    "\n",
    "train_maligant_dir='./melanoma-image-data/train/train/malignant/'\n",
    "data_maligant = []\n",
    "labels_maligant =[]\n",
    "\n",
    "for i in range(benign_data.shape[0]):\n",
    "    data_benign.append(train_benign_dir+benign_data['image_name'].iloc[i]+'.jpg')\n",
    "    labels_benign.append(benign_data['target'].iloc[i])\n",
    "df_benign=pd.DataFrame(data_benign)\n",
    "df_benign.columns=['images']\n",
    "df_benign['target']=labels_benign\n",
    "\n",
    "\n",
    "for i in range(maligant_data.shape[0]):\n",
    "    data_maligant.append(train_maligant_dir+maligant_data['image_name'].iloc[i]+'.jpg')\n",
    "    labels_maligant.append(maligant_data['target'].iloc[i])\n",
    "df_maligant=pd.DataFrame(data_maligant)\n",
    "df_maligant.columns=['images']\n",
    "df_maligant['target']=labels_maligant\n",
    "\n",
    "print(df_benign.shape)\n",
    "print(df_maligant.shape)\n",
    "\n",
    "df=pd.concat([df_benign,df_maligant])\n",
    "df.shape"
   ]
  },
  {
   "cell_type": "code",
   "execution_count": 6,
   "id": "711b9ff0-b507-4fdf-bf29-faef28132b3e",
   "metadata": {},
   "outputs": [
    {
     "data": {
      "text/html": [
       "<div>\n",
       "<style scoped>\n",
       "    .dataframe tbody tr th:only-of-type {\n",
       "        vertical-align: middle;\n",
       "    }\n",
       "\n",
       "    .dataframe tbody tr th {\n",
       "        vertical-align: top;\n",
       "    }\n",
       "\n",
       "    .dataframe thead th {\n",
       "        text-align: right;\n",
       "    }\n",
       "</style>\n",
       "<table border=\"1\" class=\"dataframe\">\n",
       "  <thead>\n",
       "    <tr style=\"text-align: right;\">\n",
       "      <th></th>\n",
       "      <th>images</th>\n",
       "    </tr>\n",
       "  </thead>\n",
       "  <tbody>\n",
       "    <tr>\n",
       "      <th>0</th>\n",
       "      <td>./melanoma-image-data/test/test/unkown/ISIC_00...</td>\n",
       "    </tr>\n",
       "    <tr>\n",
       "      <th>1</th>\n",
       "      <td>./melanoma-image-data/test/test/unkown/ISIC_00...</td>\n",
       "    </tr>\n",
       "    <tr>\n",
       "      <th>2</th>\n",
       "      <td>./melanoma-image-data/test/test/unkown/ISIC_00...</td>\n",
       "    </tr>\n",
       "    <tr>\n",
       "      <th>3</th>\n",
       "      <td>./melanoma-image-data/test/test/unkown/ISIC_00...</td>\n",
       "    </tr>\n",
       "    <tr>\n",
       "      <th>4</th>\n",
       "      <td>./melanoma-image-data/test/test/unkown/ISIC_00...</td>\n",
       "    </tr>\n",
       "    <tr>\n",
       "      <th>...</th>\n",
       "      <td>...</td>\n",
       "    </tr>\n",
       "    <tr>\n",
       "      <th>10977</th>\n",
       "      <td>./melanoma-image-data/test/test/unkown/ISIC_99...</td>\n",
       "    </tr>\n",
       "    <tr>\n",
       "      <th>10978</th>\n",
       "      <td>./melanoma-image-data/test/test/unkown/ISIC_99...</td>\n",
       "    </tr>\n",
       "    <tr>\n",
       "      <th>10979</th>\n",
       "      <td>./melanoma-image-data/test/test/unkown/ISIC_99...</td>\n",
       "    </tr>\n",
       "    <tr>\n",
       "      <th>10980</th>\n",
       "      <td>./melanoma-image-data/test/test/unkown/ISIC_99...</td>\n",
       "    </tr>\n",
       "    <tr>\n",
       "      <th>10981</th>\n",
       "      <td>./melanoma-image-data/test/test/unkown/ISIC_99...</td>\n",
       "    </tr>\n",
       "  </tbody>\n",
       "</table>\n",
       "<p>10982 rows × 1 columns</p>\n",
       "</div>"
      ],
      "text/plain": [
       "                                                  images\n",
       "0      ./melanoma-image-data/test/test/unkown/ISIC_00...\n",
       "1      ./melanoma-image-data/test/test/unkown/ISIC_00...\n",
       "2      ./melanoma-image-data/test/test/unkown/ISIC_00...\n",
       "3      ./melanoma-image-data/test/test/unkown/ISIC_00...\n",
       "4      ./melanoma-image-data/test/test/unkown/ISIC_00...\n",
       "...                                                  ...\n",
       "10977  ./melanoma-image-data/test/test/unkown/ISIC_99...\n",
       "10978  ./melanoma-image-data/test/test/unkown/ISIC_99...\n",
       "10979  ./melanoma-image-data/test/test/unkown/ISIC_99...\n",
       "10980  ./melanoma-image-data/test/test/unkown/ISIC_99...\n",
       "10981  ./melanoma-image-data/test/test/unkown/ISIC_99...\n",
       "\n",
       "[10982 rows x 1 columns]"
      ]
     },
     "execution_count": 6,
     "metadata": {},
     "output_type": "execute_result"
    }
   ],
   "source": [
    "test_dir='./melanoma-image-data/test/test/unkown/'\n",
    "test_data = []\n",
    "for i in range(test_dataframe.shape[0]):\n",
    "    test_data.append(test_dir + test_dataframe['image_name'].iloc[i]+'.jpg')\n",
    "df_test_kaggle=pd.DataFrame(test_data)\n",
    "df_test_kaggle.columns=['images']\n",
    "df_test_kaggle.shape\n",
    "df_test_kaggle"
   ]
  },
  {
   "cell_type": "code",
   "execution_count": 7,
   "id": "d038f4b6-41b1-4588-b63c-1aae568699d6",
   "metadata": {},
   "outputs": [],
   "source": [
    "from sklearn.model_selection import train_test_split\n",
    "x_train,x_val,y_train,y_val=train_test_split(df['images'],df['target'],test_size=0.2,random_state=42,stratify=df['target'])\n",
    "\n",
    "train_gen = pd.DataFrame({'image_dir': x_train, 'target': y_train})\n",
    "val_gen = pd.DataFrame({'image_dir': x_val, 'target': y_val})"
   ]
  },
  {
   "cell_type": "code",
   "execution_count": 8,
   "id": "eed3a713-11da-4efb-9faa-c77fa3f09e96",
   "metadata": {},
   "outputs": [],
   "source": [
    "from sklearn.model_selection import train_test_split\n",
    "x_train,x_test,y_train,y_test=train_test_split(train_gen['image_dir'],train_gen['target'],test_size=0.1,random_state=42,stratify=train_gen['target'])\n",
    "\n",
    "train_gen = pd.DataFrame({'image_dir': x_train, 'target': y_train})\n",
    "test_gen = pd.DataFrame({'image_dir': x_test, 'target': y_test})"
   ]
  },
  {
   "cell_type": "code",
   "execution_count": 9,
   "id": "868ff270-a7ee-4ee6-94e7-02e66fda537e",
   "metadata": {},
   "outputs": [
    {
     "name": "stderr",
     "output_type": "stream",
     "text": [
      "2023-03-09 07:12:44.987548: I tensorflow/core/platform/cpu_feature_guard.cc:193] This TensorFlow binary is optimized with oneAPI Deep Neural Network Library (oneDNN) to use the following CPU instructions in performance-critical operations:  AVX2 FMA\n",
      "To enable them in other operations, rebuild TensorFlow with the appropriate compiler flags.\n",
      "2023-03-09 07:12:49.004665: W tensorflow/compiler/xla/stream_executor/platform/default/dso_loader.cc:64] Could not load dynamic library 'libcudart.so.11.0'; dlerror: libcudart.so.11.0: cannot open shared object file: No such file or directory\n",
      "2023-03-09 07:12:49.004706: I tensorflow/compiler/xla/stream_executor/cuda/cudart_stub.cc:29] Ignore above cudart dlerror if you do not have a GPU set up on your machine.\n",
      "2023-03-09 07:12:58.871362: W tensorflow/compiler/xla/stream_executor/platform/default/dso_loader.cc:64] Could not load dynamic library 'libnvinfer.so.7'; dlerror: libnvinfer.so.7: cannot open shared object file: No such file or directory\n",
      "2023-03-09 07:12:58.874850: W tensorflow/compiler/xla/stream_executor/platform/default/dso_loader.cc:64] Could not load dynamic library 'libnvinfer_plugin.so.7'; dlerror: libnvinfer_plugin.so.7: cannot open shared object file: No such file or directory\n",
      "2023-03-09 07:12:58.874873: W tensorflow/compiler/tf2tensorrt/utils/py_utils.cc:38] TF-TRT Warning: Cannot dlopen some TensorRT libraries. If you would like to use Nvidia GPU with TensorRT, please make sure the missing libraries mentioned above are installed properly.\n"
     ]
    }
   ],
   "source": [
    "from keras.layers import Input,Lambda,Dense,Flatten,Conv2D, MaxPooling2D, Dropout\n",
    "from keras.applications.efficientnet_v2 import EfficientNetV2S,preprocess_input\n",
    "from keras.preprocessing import image\n",
    "from keras.preprocessing.image import ImageDataGenerator\n",
    "from keras.models import Sequential\n",
    "from glob import glob\n",
    "\n",
    "from keras.layers import Dense, Flatten\n",
    "from tensorflow.keras import layers\n",
    "from keras.activations import sigmoid\n",
    "from keras.models import Model,load_model\n",
    "\n",
    "from keras import optimizers\n",
    "import tensorflow as tf\n",
    "#from keras.metrics import AUC"
   ]
  },
  {
   "cell_type": "code",
   "execution_count": 33,
   "id": "e3421671-4daf-4832-8e4d-a6191e7e4ea6",
   "metadata": {},
   "outputs": [
    {
     "name": "stdout",
     "output_type": "stream",
     "text": [
      "Found 23850 validated image filenames.\n",
      "Found 6626 validated image filenames.\n",
      "Found 2650 validated image filenames.\n"
     ]
    }
   ],
   "source": [
    "train_datagen = ImageDataGenerator(preprocessing_function=preprocess_input,\n",
    "                                   rotation_range=45,\n",
    "                                   width_shift_range=0.2,\n",
    "                                   height_shift_range=0.2,\n",
    "                                   zoom_range = 0.2,\n",
    "                                   fill_mode ='nearest',\n",
    "                                   horizontal_flip=True)\n",
    "val_datagen=ImageDataGenerator(preprocessing_function =preprocess_input)\n",
    "test_datagen =ImageDataGenerator(preprocessing_function =preprocess_input)\n",
    "\n",
    "\n",
    "train_generator = train_datagen.flow_from_dataframe(\n",
    "    train_gen,\n",
    "    x_col='image_dir',\n",
    "    y_col='target',\n",
    "    target_size=(224, 224),\n",
    "    batch_size=64,\n",
    "    class_mode='raw')\n",
    "\n",
    "validation_generator = val_datagen.flow_from_dataframe(\n",
    "    val_gen,\n",
    "    x_col='image_dir',\n",
    "    y_col='target',\n",
    "    target_size=(224, 224),\n",
    "    batch_size=64,\n",
    "    class_mode='raw')\n",
    "\n",
    "\n",
    "test_generator = test_datagen.flow_from_dataframe(\n",
    "    test_gen,\n",
    "    x_col='image_dir',\n",
    "    y_col='target',\n",
    "    target_size=(224, 224),\n",
    "    batch_size=64,\n",
    "    class_mode='raw',\n",
    "    shuffle=False\n",
    "\n",
    ")\n"
   ]
  },
  {
   "cell_type": "code",
   "execution_count": 11,
   "id": "a0c801be-3d56-4446-81e2-8af713a14bc1",
   "metadata": {},
   "outputs": [
    {
     "data": {
      "text/plain": [
       "((23850, 2), (6626, 2), (2650, 2))"
      ]
     },
     "execution_count": 11,
     "metadata": {},
     "output_type": "execute_result"
    }
   ],
   "source": [
    "train_gen.shape,val_gen.shape,test_gen.shape"
   ]
  },
  {
   "cell_type": "code",
   "execution_count": 12,
   "id": "49a663bb-40b3-43b1-9e5f-0efc25277153",
   "metadata": {},
   "outputs": [
    {
     "name": "stderr",
     "output_type": "stream",
     "text": [
      "2023-03-09 07:13:19.353977: W tensorflow/compiler/xla/stream_executor/platform/default/dso_loader.cc:64] Could not load dynamic library 'libcuda.so.1'; dlerror: libcuda.so.1: cannot open shared object file: No such file or directory\n",
      "2023-03-09 07:13:19.354039: W tensorflow/compiler/xla/stream_executor/cuda/cuda_driver.cc:265] failed call to cuInit: UNKNOWN ERROR (303)\n",
      "2023-03-09 07:13:19.354075: I tensorflow/compiler/xla/stream_executor/cuda/cuda_diagnostics.cc:156] kernel driver does not appear to be running on this host (skin-cancer-v2): /proc/driver/nvidia/version does not exist\n",
      "2023-03-09 07:13:19.474878: I tensorflow/core/platform/cpu_feature_guard.cc:193] This TensorFlow binary is optimized with oneAPI Deep Neural Network Library (oneDNN) to use the following CPU instructions in performance-critical operations:  AVX2 FMA\n",
      "To enable them in other operations, rebuild TensorFlow with the appropriate compiler flags.\n"
     ]
    }
   ],
   "source": [
    "\n",
    "base_model= EfficientNetV2S(weights='imagenet',input_shape=(224,224,3),include_top=False)\n",
    "\n",
    "for layer in base_model.layers:\n",
    "    layer.trainable = False\n",
    "    \n",
    "layer_top=Flatten()(base_model.output)\n",
    "layer_top=layers.Dense(1, activation = 'sigmoid')(layer_top)\n",
    "\n",
    "model =Model(inputs=base_model.input,outputs=layer_top)\n",
    "#model.summary()"
   ]
  },
  {
   "cell_type": "code",
   "execution_count": 36,
   "id": "da457c1d-5c96-4196-acfb-368c8f477453",
   "metadata": {},
   "outputs": [],
   "source": [
    "opt = Adam(lr=0.00001)\n",
    "auc = tf.keras.metrics.AUC()\n",
    "model.compile(loss='binary_crossentropy', metrics=[auc],optimizer=opt)"
   ]
  },
  {
   "cell_type": "code",
   "execution_count": 38,
   "id": "e51ff9ac-d90f-46f5-9f7e-af53c8872697",
   "metadata": {},
   "outputs": [
    {
     "name": "stderr",
     "output_type": "stream",
     "text": [
      "/opt/conda/lib/python3.7/site-packages/ipykernel_launcher.py:26: UserWarning: `Model.fit_generator` is deprecated and will be removed in a future version. Please use `Model.fit`, which supports generators.\n"
     ]
    },
    {
     "name": "stdout",
     "output_type": "stream",
     "text": [
      "Epoch 1/30\n",
      "372/372 [==============================] - 2942s 8s/step - loss: 0.0779 - auc_7: 0.7833 - val_loss: 0.0714 - val_auc_7: 0.8563\n",
      "Epoch 2/30\n",
      "372/372 [==============================] - 2865s 8s/step - loss: 0.0763 - auc_7: 0.8084 - val_loss: 0.0717 - val_auc_7: 0.8527\n",
      "Epoch 3/30\n",
      "372/372 [==============================] - 2914s 8s/step - loss: 0.0763 - auc_7: 0.8087 - val_loss: 0.0707 - val_auc_7: 0.8577\n",
      "Epoch 4/30\n",
      "372/372 [==============================] - 2883s 8s/step - loss: 0.0742 - auc_7: 0.8209 - val_loss: 0.0708 - val_auc_7: 0.8554\n",
      "Epoch 5/30\n",
      "372/372 [==============================] - 2973s 8s/step - loss: 0.0759 - auc_7: 0.8076 - val_loss: 0.0705 - val_auc_7: 0.8655\n",
      "Epoch 6/30\n",
      "372/372 [==============================] - 2933s 8s/step - loss: 0.0742 - auc_7: 0.8295 - val_loss: 0.0706 - val_auc_7: 0.8603\n",
      "Epoch 7/30\n",
      "372/372 [==============================] - 2968s 8s/step - loss: 0.0747 - auc_7: 0.8181 - val_loss: 0.0706 - val_auc_7: 0.8656\n",
      "Training completed in time:  5:41:21.755249\n"
     ]
    }
   ],
   "source": [
    "\n",
    "from datetime import datetime\n",
    "from keras.optimizers import Adam\n",
    "\n",
    "from keras.callbacks import ModelCheckpoint,EarlyStopping\n",
    "\n",
    "mc = ModelCheckpoint(filepath='EfficientNet_Imbalanced_AUC_model1.h5',\n",
    "                     monitor='auc_7',  # even use the generated handle for monitoring the training AUC\n",
    "                     save_best_only=True,\n",
    "                     mode='max')\n",
    "\n",
    "#Early stopping\n",
    "es = EarlyStopping(monitor = 'auc_7', patience = 3, mode='max',min_delta = 0.01)\n",
    "\n",
    "callbacks = [mc,es]\n",
    "\n",
    "start = datetime.now()\n",
    "\n",
    "\n",
    "model.fit_generator(\n",
    "    train_generator,\n",
    "    steps_per_epoch=372,\n",
    "    epochs=30,\n",
    "    validation_data=validation_generator,\n",
    "    callbacks=callbacks,\n",
    "    validation_steps=103,\n",
    "     verbose=1\n",
    "\n",
    ")\n",
    "\n",
    "\n",
    "\n",
    "duration = datetime.now() - start\n",
    "print(\"Training completed in time: \", duration)"
   ]
  },
  {
   "cell_type": "code",
   "execution_count": 39,
   "id": "d05224d3-8458-4e80-b2b8-7da794b7d8de",
   "metadata": {},
   "outputs": [
    {
     "name": "stderr",
     "output_type": "stream",
     "text": [
      "/opt/conda/lib/python3.7/site-packages/ipykernel_launcher.py:4: UserWarning: `Model.evaluate_generator` is deprecated and will be removed in a future version. Please use `Model.evaluate`, which supports generators.\n",
      "  after removing the cwd from sys.path.\n"
     ]
    },
    {
     "name": "stdout",
     "output_type": "stream",
     "text": [
      "42/42 [==============================] - 231s 5s/step - loss: 0.0763 - auc_7: 0.8479\n",
      " Test loss and accuracy are [0.0763053372502327, 0.8478596210479736]\n"
     ]
    }
   ],
   "source": [
    "# Load best fit model\n",
    "imbalanced_model = load_model('EfficientNet_Imbalanced_AUC_model1.h5')\n",
    "\n",
    "results = imbalanced_model.evaluate_generator(generator=test_generator,verbose = 1)\n",
    "print(\" Test loss and accuracy are\", results)"
   ]
  },
  {
   "cell_type": "code",
   "execution_count": 40,
   "id": "2703adf0-12fb-4377-a948-5d2b0b194a2a",
   "metadata": {},
   "outputs": [
    {
     "name": "stdout",
     "output_type": "stream",
     "text": [
      "42/42 [==============================] - 235s 5s/step\n",
      "[[0.00123693]\n",
      " [0.00944201]\n",
      " [0.00014672]\n",
      " ...\n",
      " [0.03425646]\n",
      " [0.00030419]\n",
      " [0.0111375 ]]\n"
     ]
    }
   ],
   "source": [
    "# Get prediction\n",
    "imbalanced_pred = imbalanced_model.predict(test_generator,verbose = 1)\n",
    "print(imbalanced_pred)"
   ]
  },
  {
   "cell_type": "code",
   "execution_count": 41,
   "id": "1dcbdacd-5b8e-425f-a112-bba798df750c",
   "metadata": {},
   "outputs": [
    {
     "data": {
      "image/png": "[encoded data removed]",
      "text/plain": [
       "<Figure size 640x480 with 1 Axes>"
      ]
     },
     "metadata": {},
     "output_type": "display_data"
    },
    {
     "name": "stdout",
     "output_type": "stream",
     "text": [
      "Area under curve, AUC =  0.850352702691657\n"
     ]
    }
   ],
   "source": [
    "from sklearn.metrics import roc_curve\n",
    "\n",
    "\n",
    "fpr, tpr, thresholds = roc_curve(test_gen.target, imbalanced_pred)\n",
    "plt.figure(1)\n",
    "plt.plot([0, 1], [0, 1], 'y--')\n",
    "plt.plot(fpr, tpr, marker='.')\n",
    "plt.xlabel('False positive rate')\n",
    "plt.ylabel('True positive rate')\n",
    "plt.title('ROC curve')\n",
    "plt.show()\n",
    "\n",
    "from sklearn.metrics import auc\n",
    "auc_value = auc(fpr, tpr)\n",
    "print(\"Area under curve, AUC = \", auc_value)"
   ]
  },
  {
   "cell_type": "markdown",
   "id": "6f1939d6-afa6-458d-b92b-53a4ec9574cf",
   "metadata": {},
   "source": [
    "# For kaggle compitition test"
   ]
  },
  {
   "cell_type": "code",
   "execution_count": 42,
   "id": "066541b2-b8a7-4ff6-8ce3-efa025abe0aa",
   "metadata": {},
   "outputs": [
    {
     "name": "stdout",
     "output_type": "stream",
     "text": [
      "Found 10982 images belonging to 1 classes.\n"
     ]
    }
   ],
   "source": [
    "\n",
    "kaggle_test_path='./melanoma-image-data/test/test'\n",
    "test_set_kaggle = test_datagen.flow_from_directory(kaggle_test_path,\n",
    "                                             target_size = (224,224),\n",
    "                                             batch_size = 32,\n",
    "                                             class_mode = 'categorical',\n",
    "                                             shuffle=False   )\n",
    "\n",
    "test_set_kaggle.reset()\n",
    "\n"
   ]
  },
  {
   "cell_type": "code",
   "execution_count": 52,
   "id": "bed7cd1e-eac7-4cdf-ad9c-b1bb6a596deb",
   "metadata": {},
   "outputs": [
    {
     "name": "stderr",
     "output_type": "stream",
     "text": [
      "/opt/conda/lib/python3.7/site-packages/ipykernel_launcher.py:1: UserWarning: `Model.predict_generator` is deprecated and will be removed in a future version. Please use `Model.predict`, which supports generators.\n",
      "  \"\"\"Entry point for launching an IPython kernel.\n"
     ]
    },
    {
     "name": "stdout",
     "output_type": "stream",
     "text": [
      "344/344 [==============================] - 1196s 3s/step\n",
      "[[0.00200068]\n",
      " [0.09539575]\n",
      " [0.08007228]\n",
      " ...\n",
      " [0.00456134]\n",
      " [0.01582695]\n",
      " [0.00107455]]\n"
     ]
    }
   ],
   "source": [
    "kaggle_pred_test = imbalanced_model.predict_generator(test_set_kaggle,verbose=1)\n",
    "print(kaggle_pred_test)"
   ]
  },
  {
   "cell_type": "code",
   "execution_count": 55,
   "id": "a28b3b91-3071-46fe-894d-acfba9762e63",
   "metadata": {},
   "outputs": [],
   "source": [
    "# Malignent Prediction\n",
    "imbalanced_predict_malignent=[]\n",
    "for i in range(len(kaggle_pred_test)):\n",
    "    imbalanced_predict_malignent.append(1-kaggle_pred_test[i]) \n",
    "\n",
    "#print(imbalanced_predict_class_kaggle)\n",
    "imbalanced_np_malignent=np.asarray(imbalanced_predict_malignent, dtype=None)\n",
    "imbalanced_np_malignent=imbalanced_np_malignent.ravel()"
   ]
  },
  {
   "cell_type": "code",
   "execution_count": 56,
   "id": "50ae2c0e-623f-440d-a0dd-c96af4833a6b",
   "metadata": {},
   "outputs": [],
   "source": [
    "import pandas as pd\n",
    "filenames=test_set_kaggle.filenames\n",
    "results=pd.DataFrame({\"image_name\":filenames,\n",
    "                      \"target\":imbalanced_np_malignent})\n",
    "results.to_csv(\"efficientNetV2_imbalanced_lr4_final_resultsV1.csv\",index=False)"
   ]
  },
  {
   "cell_type": "markdown",
   "id": "5d6b75d6-355d-4e38-8d27-1d4cfe68c44c",
   "metadata": {},
   "source": [
    "# With weighted focal loss"
   ]
  },
  {
   "cell_type": "code",
   "execution_count": 43,
   "id": "7bf3276f-28f2-4871-bbc8-1d067f37ab9a",
   "metadata": {},
   "outputs": [
    {
     "data": {
      "text/plain": [
       "0    23430\n",
       "1      420\n",
       "Name: target, dtype: int64"
      ]
     },
     "execution_count": 43,
     "metadata": {},
     "output_type": "execute_result"
    }
   ],
   "source": [
    "train_gen['target'].value_counts()"
   ]
  },
  {
   "cell_type": "code",
   "execution_count": 44,
   "id": "41499aa3-03bf-4c31-9d61-e810c71ae6e7",
   "metadata": {},
   "outputs": [
    {
     "name": "stdout",
     "output_type": "stream",
     "text": [
      "0.5108978868851661\n",
      "1.4891021131148336\n"
     ]
    }
   ],
   "source": [
    "def calculate_alpha(beta = 0.999):\n",
    "     bening_sample=[23430,420]\n",
    "     effective_num=1-np.power(beta,bening_sample)\n",
    "     weights=(1.0-beta)/np.array(effective_num)\n",
    "     weights=weights/np.sum(weights)*2\n",
    "     return weights\n",
    "\n",
    "alpha=calculate_alpha()\n",
    "print(alpha[0])\n",
    "print(alpha[1])"
   ]
  },
  {
   "cell_type": "code",
   "execution_count": 46,
   "id": "b889dce3-25d1-41fc-a1f0-3dbde5df5e53",
   "metadata": {},
   "outputs": [],
   "source": [
    "opt = Adam(lr=0.0001)\n",
    "auc = tf.keras.metrics.AUC()\n",
    "\n",
    "model.compile(loss=tf.keras.losses.BinaryFocalCrossentropy(\n",
    "    alpha=alpha[0],\n",
    "    gamma=1),\n",
    "    optimizer = opt,\n",
    "    metrics =[auc])\n"
   ]
  },
  {
   "cell_type": "code",
   "execution_count": 48,
   "id": "172b55c8-e720-4faa-9e19-6fadd109beaf",
   "metadata": {},
   "outputs": [
    {
     "name": "stderr",
     "output_type": "stream",
     "text": [
      "/opt/conda/lib/python3.7/site-packages/ipykernel_launcher.py:26: UserWarning: `Model.fit_generator` is deprecated and will be removed in a future version. Please use `Model.fit`, which supports generators.\n"
     ]
    },
    {
     "name": "stdout",
     "output_type": "stream",
     "text": [
      "Epoch 1/30\n",
      "372/372 [==============================] - 2974s 8s/step - loss: 0.0487 - auc_9: 0.7863 - val_loss: 0.0459 - val_auc_9: 0.8391\n",
      "Epoch 2/30\n",
      "372/372 [==============================] - 2934s 8s/step - loss: 0.0491 - auc_9: 0.7854 - val_loss: 0.0450 - val_auc_9: 0.8130\n",
      "Epoch 3/30\n",
      "372/372 [==============================] - 2941s 8s/step - loss: 0.0472 - auc_9: 0.7849 - val_loss: 0.0457 - val_auc_9: 0.8327\n",
      "Epoch 4/30\n",
      "372/372 [==============================] - 2997s 8s/step - loss: 0.0461 - auc_9: 0.8065 - val_loss: 0.0479 - val_auc_9: 0.8385\n",
      "Epoch 5/30\n",
      "372/372 [==============================] - 2986s 8s/step - loss: 0.0466 - auc_9: 0.8104 - val_loss: 0.0468 - val_auc_9: 0.8429\n",
      "Epoch 6/30\n",
      "372/372 [==============================] - 3013s 8s/step - loss: 0.0472 - auc_9: 0.8118 - val_loss: 0.0450 - val_auc_9: 0.8411\n",
      "Epoch 7/30\n",
      "372/372 [==============================] - 3033s 8s/step - loss: 0.0444 - auc_9: 0.8297 - val_loss: 0.0493 - val_auc_9: 0.8078\n",
      "Epoch 8/30\n",
      "372/372 [==============================] - 2941s 8s/step - loss: 0.0466 - auc_9: 0.8105 - val_loss: 0.0433 - val_auc_9: 0.8376\n",
      "Epoch 9/30\n",
      "372/372 [==============================] - 2907s 8s/step - loss: 0.0459 - auc_9: 0.8246 - val_loss: 0.0521 - val_auc_9: 0.8533\n",
      "Epoch 10/30\n",
      "372/372 [==============================] - 2941s 8s/step - loss: 0.0459 - auc_9: 0.8260 - val_loss: 0.0495 - val_auc_9: 0.8119\n",
      "Training completed in time:  8:14:32.707958\n"
     ]
    }
   ],
   "source": [
    "from datetime import datetime\n",
    "from keras.callbacks import ModelCheckpoint,EarlyStopping\n",
    "\n",
    "\n",
    "\n",
    "mc = ModelCheckpoint(filepath='EfficientNet_focal_AUC_model1.h5',\n",
    "                     monitor='auc_9',  # even use the generated handle for monitoring the training AUC\n",
    "                     save_best_only=True,\n",
    "                     mode='max')\n",
    "\n",
    "#Early stopping\n",
    "es = EarlyStopping(monitor = 'auc_9', patience = 3, mode='max',min_delta = 0.01)\n",
    "\n",
    "callbacks = [mc,es]\n",
    "\n",
    "start = datetime.now()\n",
    "\n",
    "\n",
    "model.fit_generator(\n",
    "    train_generator,\n",
    "    steps_per_epoch=372,\n",
    "    epochs=30,\n",
    "    validation_data=validation_generator,\n",
    "    callbacks=callbacks,\n",
    "    validation_steps=103,\n",
    "    verbose=1\n",
    "\n",
    ")\n",
    "\n",
    "\n",
    "\n",
    "duration = datetime.now() - start\n",
    "print(\"Training completed in time: \", duration)"
   ]
  },
  {
   "cell_type": "code",
   "execution_count": 49,
   "id": "4c0a3254-20bd-4078-b03d-a905c6301783",
   "metadata": {},
   "outputs": [
    {
     "name": "stderr",
     "output_type": "stream",
     "text": [
      "/opt/conda/lib/python3.7/site-packages/ipykernel_launcher.py:7: UserWarning: `Model.evaluate_generator` is deprecated and will be removed in a future version. Please use `Model.evaluate`, which supports generators.\n",
      "  import sys\n"
     ]
    },
    {
     "name": "stdout",
     "output_type": "stream",
     "text": [
      "42/42 [==============================] - 230s 5s/step - loss: 0.0527 - auc_9: 0.8077\n",
      " Test loss and accuracy are [0.052650682628154755, 0.8077219128608704]\n"
     ]
    }
   ],
   "source": [
    "#load best model\n",
    "from keras.models import load_model\n",
    "\n",
    "# Load best fit model\n",
    "focalloss_model = load_model('EfficientNet_focal_AUC_model1.h5')\n",
    "\n",
    "results = focalloss_model.evaluate_generator(generator=test_generator,verbose = 1)\n",
    "print(\" Test loss and accuracy are\", results)"
   ]
  },
  {
   "cell_type": "code",
   "execution_count": 50,
   "id": "4e972319-d5a4-4ea0-98df-41210f2d1b08",
   "metadata": {},
   "outputs": [
    {
     "name": "stdout",
     "output_type": "stream",
     "text": [
      "42/42 [==============================] - 242s 6s/step\n",
      "[[0.04594717]\n",
      " [0.02712582]\n",
      " [0.00789688]\n",
      " ...\n",
      " [0.33940557]\n",
      " [0.01348025]\n",
      " [0.14673159]]\n"
     ]
    }
   ],
   "source": [
    "imbalanced_pred = focalloss_model.predict(test_generator)\n",
    "print(imbalanced_pred)"
   ]
  },
  {
   "cell_type": "code",
   "execution_count": 51,
   "id": "95701d49-61f1-4364-b833-df36e478d572",
   "metadata": {},
   "outputs": [
    {
     "data": {
      "image/png": "[encoded data removed]",
      "text/plain": [
       "<Figure size 640x480 with 1 Axes>"
      ]
     },
     "metadata": {},
     "output_type": "display_data"
    },
    {
     "name": "stdout",
     "output_type": "stream",
     "text": [
      "Area under curve, AUC =  0.807930293196884\n"
     ]
    }
   ],
   "source": [
    "from sklearn.metrics import roc_curve\n",
    "\n",
    "\n",
    "fpr, tpr, thresholds = roc_curve(test_gen.target, imbalanced_pred)\n",
    "plt.figure(1)\n",
    "plt.plot([0, 1], [0, 1], 'y--')\n",
    "plt.plot(fpr, tpr, marker='.')\n",
    "plt.xlabel('False positive rate')\n",
    "plt.ylabel('True positive rate')\n",
    "plt.title('ROC curve')\n",
    "plt.show()\n",
    "\n",
    "from sklearn.metrics import auc\n",
    "auc_value = auc(fpr, tpr)\n",
    "print(\"Area under curve, AUC = \", auc_value)"
   ]
  },
  {
   "cell_type": "code",
   "execution_count": 59,
   "id": "39da813a-827e-4881-9ae3-d06d89bec93f",
   "metadata": {},
   "outputs": [
    {
     "name": "stderr",
     "output_type": "stream",
     "text": [
      "/opt/conda/lib/python3.7/site-packages/ipykernel_launcher.py:1: UserWarning: `Model.predict_generator` is deprecated and will be removed in a future version. Please use `Model.predict`, which supports generators.\n",
      "  \"\"\"Entry point for launching an IPython kernel.\n"
     ]
    },
    {
     "name": "stdout",
     "output_type": "stream",
     "text": [
      "344/344 [==============================] - 1191s 3s/step\n",
      "[[0.01569055]\n",
      " [0.1749474 ]\n",
      " [0.03183985]\n",
      " ...\n",
      " [0.06667306]\n",
      " [0.00182238]\n",
      " [0.05347624]]\n"
     ]
    }
   ],
   "source": [
    "kaggle_pred_test = focalloss_model.predict_generator(test_set_kaggle,verbose=1)\n",
    "print(kaggle_pred_test)"
   ]
  },
  {
   "cell_type": "code",
   "execution_count": 60,
   "id": "8b4d0bf2-66f8-4ba6-8c44-fa8f7de17787",
   "metadata": {},
   "outputs": [],
   "source": [
    "# Malignent Prediction\n",
    "focalloss_predict_malignent=[]\n",
    "for i in range(len(kaggle_pred_test)):\n",
    "    focalloss_predict_malignent.append(1-kaggle_pred_test[i]) \n",
    "\n",
    "#print(imbalanced_predict_class_kaggle)\n",
    "focalloss_np_malignent=np.asarray(focalloss_predict_malignent, dtype=None)\n",
    "focalloss_np_malignent=focalloss_np_malignent.ravel()"
   ]
  },
  {
   "cell_type": "code",
   "execution_count": 62,
   "id": "f4788ceb-ae48-417e-8668-be8ac09318b2",
   "metadata": {},
   "outputs": [],
   "source": [
    "import pandas as pd\n",
    "filenames=test_set_kaggle.filenames\n",
    "results=pd.DataFrame({\"image_name\":filenames,\n",
    "                      \"target\":focalloss_np_malignent})\n",
    "results.to_csv(\"efficientNetV2_focalloss_beta_resultsV1.csv\",index=False)"
   ]
  },
  {
   "cell_type": "markdown",
   "id": "b8cd85c8-03dc-438c-bb36-b337be1292de",
   "metadata": {},
   "source": [
    "# With class balanced "
   ]
  },
  {
   "cell_type": "code",
   "execution_count": 53,
   "id": "599c1156-2747-42a5-b09e-ab93f2badd1d",
   "metadata": {},
   "outputs": [],
   "source": [
    "opt = Adam(lr=0.0001)\n",
    "auc = tf.keras.metrics.AUC()\n",
    "model.compile(loss='binary_crossentropy', metrics=[auc],optimizer=opt)"
   ]
  },
  {
   "cell_type": "code",
   "execution_count": 54,
   "id": "924a3e88-76ed-49fa-aaa3-a706b5376829",
   "metadata": {},
   "outputs": [],
   "source": [
    "x_train, y_train=next(train_generator)"
   ]
  },
  {
   "cell_type": "code",
   "execution_count": 56,
   "id": "246f09a9-b9c5-4be5-92cc-49636d23dd02",
   "metadata": {},
   "outputs": [
    {
     "data": {
      "text/plain": [
       "{0: 0.5161290322580645, 1: 16.0}"
      ]
     },
     "execution_count": 56,
     "metadata": {},
     "output_type": "execute_result"
    }
   ],
   "source": [
    "train_classes=y_train\n",
    "from sklearn.utils import compute_class_weight\n",
    "\n",
    "class_weights = compute_class_weight(\n",
    "                                        class_weight = 'balanced',\n",
    "                                        classes = np.unique(train_classes),\n",
    "                                        y = train_classes\n",
    ") \n",
    "class_weights = dict(zip(np.unique(train_classes),class_weights))\n",
    "class_weights"
   ]
  },
  {
   "cell_type": "code",
   "execution_count": 57,
   "id": "78b04f5a-68b6-4ff2-b144-1b32ae86520a",
   "metadata": {},
   "outputs": [
    {
     "name": "stderr",
     "output_type": "stream",
     "text": [
      "/opt/conda/lib/python3.7/site-packages/ipykernel_launcher.py:27: UserWarning: `Model.fit_generator` is deprecated and will be removed in a future version. Please use `Model.fit`, which supports generators.\n"
     ]
    },
    {
     "name": "stdout",
     "output_type": "stream",
     "text": [
      "Epoch 1/30\n",
      "372/372 [==============================] - 2961s 8s/step - loss: 0.3981 - auc_11: 0.8286 - val_loss: 0.1906 - val_auc_11: 0.8495\n",
      "Epoch 2/30\n",
      "372/372 [==============================] - 2896s 8s/step - loss: 0.3670 - auc_11: 0.8569 - val_loss: 0.3613 - val_auc_11: 0.8461\n",
      "Epoch 3/30\n",
      "372/372 [==============================] - 2871s 8s/step - loss: 0.3588 - auc_11: 0.8648 - val_loss: 0.2239 - val_auc_11: 0.8542\n",
      "Epoch 4/30\n",
      "372/372 [==============================] - 2936s 8s/step - loss: 0.3707 - auc_11: 0.8593 - val_loss: 0.3032 - val_auc_11: 0.8431\n",
      "Epoch 5/30\n",
      "372/372 [==============================] - 2943s 8s/step - loss: 0.3792 - auc_11: 0.8559 - val_loss: 0.1760 - val_auc_11: 0.8482\n",
      "Training completed in time:  4:03:33.152658\n"
     ]
    }
   ],
   "source": [
    "from datetime import datetime\n",
    "from keras.callbacks import ModelCheckpoint,EarlyStopping\n",
    "\n",
    "\n",
    "\n",
    "mc = ModelCheckpoint(filepath='EfficientNet_balanced_inverse_AUC_model1.h5',\n",
    "                     monitor='auc_11',  # even use the generated handle for monitoring the training AUC\n",
    "                     save_best_only=True,\n",
    "                     mode='max')\n",
    "\n",
    "#Early stopping\n",
    "es = EarlyStopping(monitor = 'auc_11', patience = 3, mode='max',min_delta = 0.01)\n",
    "\n",
    "callbacks = [mc,es]\n",
    "\n",
    "start = datetime.now()\n",
    "\n",
    "\n",
    "model.fit_generator(\n",
    "    train_generator,\n",
    "    steps_per_epoch=372,\n",
    "    epochs=30,\n",
    "    validation_data=validation_generator,\n",
    "    callbacks=callbacks,\n",
    "    validation_steps=100,\n",
    "    class_weight=class_weights,\n",
    "     verbose=1\n",
    "\n",
    ")\n",
    "\n",
    "\n",
    "\n",
    "duration = datetime.now() - start\n",
    "print(\"Training completed in time: \", duration)\n"
   ]
  },
  {
   "cell_type": "code",
   "execution_count": 58,
   "id": "110bd9f6-51e8-4905-aa25-e6af724109a0",
   "metadata": {},
   "outputs": [
    {
     "name": "stderr",
     "output_type": "stream",
     "text": [
      "/opt/conda/lib/python3.7/site-packages/ipykernel_launcher.py:7: UserWarning: `Model.evaluate_generator` is deprecated and will be removed in a future version. Please use `Model.evaluate`, which supports generators.\n",
      "  import sys\n"
     ]
    },
    {
     "name": "stdout",
     "output_type": "stream",
     "text": [
      "42/42 [==============================] - 239s 6s/step - loss: 0.2441 - auc_11: 0.8370\n",
      " Test loss and accuracy are [0.24413014948368073, 0.8369720578193665]\n"
     ]
    }
   ],
   "source": [
    "#load best model\n",
    "from keras.models import load_model\n",
    "\n",
    "# Load best fit model\n",
    "weighted_model = load_model('EfficientNet_balanced_inverse_AUC_model1.h5')\n",
    "\n",
    "results = weighted_model.evaluate_generator(generator=test_generator,verbose = 1)\n",
    "print(\" Test loss and accuracy are\", results)"
   ]
  },
  {
   "cell_type": "code",
   "execution_count": 59,
   "id": "d80fe120-fd2f-49cb-bc91-fe6f7beb6088",
   "metadata": {},
   "outputs": [
    {
     "name": "stdout",
     "output_type": "stream",
     "text": [
      "42/42 [==============================] - 229s 5s/step\n",
      "[[1.3940366e-02]\n",
      " [5.9773121e-03]\n",
      " [3.5052196e-04]\n",
      " ...\n",
      " [6.4780468e-01]\n",
      " [7.8646367e-04]\n",
      " [2.9895997e-01]]\n"
     ]
    }
   ],
   "source": [
    "balanced_pred = weighted_model.predict(test_generator)\n",
    "print(balanced_pred)"
   ]
  },
  {
   "cell_type": "code",
   "execution_count": 60,
   "id": "5f93c77a-bc4d-4147-be6e-222213ed92f8",
   "metadata": {},
   "outputs": [
    {
     "data": {
      "image/png": "[encoded data removed]",
      "text/plain": [
       "<Figure size 640x480 with 1 Axes>"
      ]
     },
     "metadata": {},
     "output_type": "display_data"
    },
    {
     "name": "stdout",
     "output_type": "stream",
     "text": [
      "Area under curve, AUC =  0.8366124193851611\n"
     ]
    }
   ],
   "source": [
    "from sklearn.metrics import roc_curve\n",
    "\n",
    "\n",
    "fpr, tpr, thresholds = roc_curve(test_gen.target, balanced_pred)\n",
    "plt.figure(1)\n",
    "plt.plot([0, 1], [0, 1], 'y--')\n",
    "plt.plot(fpr, tpr, marker='.')\n",
    "plt.xlabel('False positive rate')\n",
    "plt.ylabel('True positive rate')\n",
    "plt.title('ROC curve')\n",
    "plt.show()\n",
    "\n",
    "from sklearn.metrics import auc\n",
    "auc_value = auc(fpr, tpr)\n",
    "print(\"Area under curve, AUC = \", auc_value)"
   ]
  },
  {
   "cell_type": "code",
   "execution_count": 78,
   "id": "0bdc6b6d-2ab0-41b2-94aa-2f513d6d3cc4",
   "metadata": {},
   "outputs": [
    {
     "name": "stderr",
     "output_type": "stream",
     "text": [
      "/opt/conda/lib/python3.7/site-packages/ipykernel_launcher.py:1: UserWarning: `Model.predict_generator` is deprecated and will be removed in a future version. Please use `Model.predict`, which supports generators.\n",
      "  \"\"\"Entry point for launching an IPython kernel.\n"
     ]
    },
    {
     "name": "stdout",
     "output_type": "stream",
     "text": [
      "344/344 [==============================] - 823s 2s/step\n",
      "[[2.3273547e-05]\n",
      " [1.8397883e-04]\n",
      " [4.3475265e-03]\n",
      " ...\n",
      " [5.6077940e-03]\n",
      " [1.9245984e-03]\n",
      " [2.5371981e-03]]\n"
     ]
    }
   ],
   "source": [
    "kaggle_pred_test = weighted_model.predict_generator(test_set_kaggle,verbose=1)\n",
    "print(kaggle_pred_test)"
   ]
  },
  {
   "cell_type": "code",
   "execution_count": 79,
   "id": "35d86543-4c6e-4699-b124-7cabccab6f16",
   "metadata": {},
   "outputs": [],
   "source": [
    "# Malignent Prediction\n",
    "weighted_predict_malignent=[]\n",
    "for i in range(len(kaggle_pred_test)):\n",
    "    weighted_predict_malignent.append(1-kaggle_pred_test[i]) \n",
    "\n",
    "#print(imbalanced_predict_class_kaggle)\n",
    "weighted_predict_malignent=np.asarray(weighted_predict_malignent, dtype=None)\n",
    "weighted_predict_malignent=weighted_predict_malignent.ravel()"
   ]
  },
  {
   "cell_type": "code",
   "execution_count": 80,
   "id": "8eb10ab9-8c56-41ca-8c39-6f53556f7b2f",
   "metadata": {},
   "outputs": [],
   "source": [
    "import pandas as pd\n",
    "filenames=test_set_kaggle.filenames\n",
    "results=pd.DataFrame({\"image_name\":filenames,\n",
    "                      \"target\":weighted_predict_malignent})\n",
    "results.to_csv(\"efficientNetV2_weighted_resultsV1.csv\",index=False)"
   ]
  },
  {
   "cell_type": "code",
   "execution_count": 1,
   "id": "d0831df8-c3c0-4003-ba7b-715a83c2ad7f",
   "metadata": {},
   "outputs": [],
   "source": [
    "# Model with average / sum Ensemble"
   ]
  },
  {
   "cell_type": "code",
   "execution_count": 16,
   "id": "72ea7f8a-83e8-4aeb-b94d-9e7b24c50317",
   "metadata": {},
   "outputs": [
    {
     "name": "stdout",
     "output_type": "stream",
     "text": [
      "344/344 [==============================] - 847s 2s/step\n",
      "344/344 [==============================] - 832s 2s/step\n",
      "344/344 [==============================] - 822s 2s/step\n"
     ]
    }
   ],
   "source": [
    "\n",
    "from keras.models import load_model\n",
    "from sklearn.metrics import accuracy_score\n",
    "\n",
    "model1 = load_model('EfficientNetv2_Imbalanced_lr5_final.h5')\n",
    "model2 = load_model('EfficientNetv2_focalloss_beta.h5')\n",
    "model3 = load_model('EfficientNetv2_weight_balanced.h5')\n",
    "\n",
    "models = [model1, model2, model3]\n",
    "\n",
    "preds = [model.predict(test_set_kaggle) for model in models]\n",
    "preds=np.array(preds)\n",
    "summed = np.sum(preds, axis=0)\n"
   ]
  },
  {
   "cell_type": "code",
   "execution_count": 18,
   "id": "0285f15e-4d93-4ac7-925f-ef1c764dca08",
   "metadata": {},
   "outputs": [
    {
     "name": "stdout",
     "output_type": "stream",
     "text": [
      "83/83 [==============================] - 225s 3s/step\n",
      "83/83 [==============================] - 225s 3s/step\n",
      "83/83 [==============================] - 223s 3s/step\n"
     ]
    }
   ],
   "source": [
    "ensemble_pred = [model.predict(test_generator) for model in models]\n",
    "preds=np.array(preds)\n",
    "summed_test = np.sum(preds, axis=0)"
   ]
  },
  {
   "cell_type": "code",
   "execution_count": 19,
   "id": "a804421b-317a-463a-b516-71fc9443a160",
   "metadata": {},
   "outputs": [
    {
     "ename": "ValueError",
     "evalue": "Found input variables with inconsistent numbers of samples: [2650, 10982]",
     "output_type": "error",
     "traceback": [
      "\u001b[0;31m---------------------------------------------------------------------------\u001b[0m",
      "\u001b[0;31mValueError\u001b[0m                                Traceback (most recent call last)",
      "\u001b[0;32m/var/tmp/ipykernel_4408/960690261.py\u001b[0m in \u001b[0;36m<module>\u001b[0;34m\u001b[0m\n\u001b[1;32m      2\u001b[0m \u001b[0;34m\u001b[0m\u001b[0m\n\u001b[1;32m      3\u001b[0m \u001b[0;34m\u001b[0m\u001b[0m\n\u001b[0;32m----> 4\u001b[0;31m \u001b[0mfpr\u001b[0m\u001b[0;34m,\u001b[0m \u001b[0mtpr\u001b[0m\u001b[0;34m,\u001b[0m \u001b[0mthresholds\u001b[0m \u001b[0;34m=\u001b[0m \u001b[0mroc_curve\u001b[0m\u001b[0;34m(\u001b[0m\u001b[0mtest_gen\u001b[0m\u001b[0;34m.\u001b[0m\u001b[0mtarget\u001b[0m\u001b[0;34m,\u001b[0m \u001b[0msummed_test\u001b[0m\u001b[0;34m)\u001b[0m\u001b[0;34m\u001b[0m\u001b[0;34m\u001b[0m\u001b[0m\n\u001b[0m\u001b[1;32m      5\u001b[0m \u001b[0mplt\u001b[0m\u001b[0;34m.\u001b[0m\u001b[0mfigure\u001b[0m\u001b[0;34m(\u001b[0m\u001b[0;36m1\u001b[0m\u001b[0;34m)\u001b[0m\u001b[0;34m\u001b[0m\u001b[0;34m\u001b[0m\u001b[0m\n\u001b[1;32m      6\u001b[0m \u001b[0mplt\u001b[0m\u001b[0;34m.\u001b[0m\u001b[0mplot\u001b[0m\u001b[0;34m(\u001b[0m\u001b[0;34m[\u001b[0m\u001b[0;36m0\u001b[0m\u001b[0;34m,\u001b[0m \u001b[0;36m1\u001b[0m\u001b[0;34m]\u001b[0m\u001b[0;34m,\u001b[0m \u001b[0;34m[\u001b[0m\u001b[0;36m0\u001b[0m\u001b[0;34m,\u001b[0m \u001b[0;36m1\u001b[0m\u001b[0;34m]\u001b[0m\u001b[0;34m,\u001b[0m \u001b[0;34m'y--'\u001b[0m\u001b[0;34m)\u001b[0m\u001b[0;34m\u001b[0m\u001b[0;34m\u001b[0m\u001b[0m\n",
      "\u001b[0;32m/opt/conda/lib/python3.7/site-packages/sklearn/metrics/_ranking.py\u001b[0m in \u001b[0;36mroc_curve\u001b[0;34m(y_true, y_score, pos_label, sample_weight, drop_intermediate)\u001b[0m\n\u001b[1;32m    961\u001b[0m     \"\"\"\n\u001b[1;32m    962\u001b[0m     fps, tps, thresholds = _binary_clf_curve(\n\u001b[0;32m--> 963\u001b[0;31m         \u001b[0my_true\u001b[0m\u001b[0;34m,\u001b[0m \u001b[0my_score\u001b[0m\u001b[0;34m,\u001b[0m \u001b[0mpos_label\u001b[0m\u001b[0;34m=\u001b[0m\u001b[0mpos_label\u001b[0m\u001b[0;34m,\u001b[0m \u001b[0msample_weight\u001b[0m\u001b[0;34m=\u001b[0m\u001b[0msample_weight\u001b[0m\u001b[0;34m\u001b[0m\u001b[0;34m\u001b[0m\u001b[0m\n\u001b[0m\u001b[1;32m    964\u001b[0m     )\n\u001b[1;32m    965\u001b[0m \u001b[0;34m\u001b[0m\u001b[0m\n",
      "\u001b[0;32m/opt/conda/lib/python3.7/site-packages/sklearn/metrics/_ranking.py\u001b[0m in \u001b[0;36m_binary_clf_curve\u001b[0;34m(y_true, y_score, pos_label, sample_weight)\u001b[0m\n\u001b[1;32m    731\u001b[0m         \u001b[0;32mraise\u001b[0m \u001b[0mValueError\u001b[0m\u001b[0;34m(\u001b[0m\u001b[0;34m\"{0} format is not supported\"\u001b[0m\u001b[0;34m.\u001b[0m\u001b[0mformat\u001b[0m\u001b[0;34m(\u001b[0m\u001b[0my_type\u001b[0m\u001b[0;34m)\u001b[0m\u001b[0;34m)\u001b[0m\u001b[0;34m\u001b[0m\u001b[0;34m\u001b[0m\u001b[0m\n\u001b[1;32m    732\u001b[0m \u001b[0;34m\u001b[0m\u001b[0m\n\u001b[0;32m--> 733\u001b[0;31m     \u001b[0mcheck_consistent_length\u001b[0m\u001b[0;34m(\u001b[0m\u001b[0my_true\u001b[0m\u001b[0;34m,\u001b[0m \u001b[0my_score\u001b[0m\u001b[0;34m,\u001b[0m \u001b[0msample_weight\u001b[0m\u001b[0;34m)\u001b[0m\u001b[0;34m\u001b[0m\u001b[0;34m\u001b[0m\u001b[0m\n\u001b[0m\u001b[1;32m    734\u001b[0m     \u001b[0my_true\u001b[0m \u001b[0;34m=\u001b[0m \u001b[0mcolumn_or_1d\u001b[0m\u001b[0;34m(\u001b[0m\u001b[0my_true\u001b[0m\u001b[0;34m)\u001b[0m\u001b[0;34m\u001b[0m\u001b[0;34m\u001b[0m\u001b[0m\n\u001b[1;32m    735\u001b[0m     \u001b[0my_score\u001b[0m \u001b[0;34m=\u001b[0m \u001b[0mcolumn_or_1d\u001b[0m\u001b[0;34m(\u001b[0m\u001b[0my_score\u001b[0m\u001b[0;34m)\u001b[0m\u001b[0;34m\u001b[0m\u001b[0;34m\u001b[0m\u001b[0m\n",
      "\u001b[0;32m/opt/conda/lib/python3.7/site-packages/sklearn/utils/validation.py\u001b[0m in \u001b[0;36mcheck_consistent_length\u001b[0;34m(*arrays)\u001b[0m\n\u001b[1;32m    332\u001b[0m         raise ValueError(\n\u001b[1;32m    333\u001b[0m             \u001b[0;34m\"Found input variables with inconsistent numbers of samples: %r\"\u001b[0m\u001b[0;34m\u001b[0m\u001b[0;34m\u001b[0m\u001b[0m\n\u001b[0;32m--> 334\u001b[0;31m             \u001b[0;34m%\u001b[0m \u001b[0;34m[\u001b[0m\u001b[0mint\u001b[0m\u001b[0;34m(\u001b[0m\u001b[0ml\u001b[0m\u001b[0;34m)\u001b[0m \u001b[0;32mfor\u001b[0m \u001b[0ml\u001b[0m \u001b[0;32min\u001b[0m \u001b[0mlengths\u001b[0m\u001b[0;34m]\u001b[0m\u001b[0;34m\u001b[0m\u001b[0;34m\u001b[0m\u001b[0m\n\u001b[0m\u001b[1;32m    335\u001b[0m         )\n\u001b[1;32m    336\u001b[0m \u001b[0;34m\u001b[0m\u001b[0m\n",
      "\u001b[0;31mValueError\u001b[0m: Found input variables with inconsistent numbers of samples: [2650, 10982]"
     ]
    }
   ],
   "source": [
    "from sklearn.metrics import roc_curve\n",
    "\n",
    "\n",
    "fpr, tpr, thresholds = roc_curve(test_gen.target, summed_test)\n",
    "plt.figure(1)\n",
    "plt.plot([0, 1], [0, 1], 'y--')\n",
    "plt.plot(fpr, tpr, marker='.')\n",
    "plt.xlabel('False positive rate')\n",
    "plt.ylabel('True positive rate')\n",
    "plt.title('ROC curve')\n",
    "plt.show()\n",
    "\n",
    "from sklearn.metrics import auc\n",
    "auc_value = auc(fpr, tpr)\n",
    "print(\"Area under curve, AUC = \", auc_value)"
   ]
  },
  {
   "cell_type": "code",
   "execution_count": null,
   "id": "5a2ba611-6355-4ad9-a060-d5d0800125da",
   "metadata": {},
   "outputs": [],
   "source": [
    "# Malignent Prediction\n",
    "weighted_predict_malignent=[]\n",
    "for i in range(len(kaggle_pred_test)):\n",
    "    weighted_predict_malignent.append(1-summed[i]) \n",
    "\n",
    "#print(imbalanced_predict_class_kaggle)\n",
    "weighted_predict_malignent=np.asarray(weighted_predict_malignent, dtype=None)\n",
    "weighted_predict_malignent=weighted_predict_malignent.ravel()"
   ]
  },
  {
   "cell_type": "code",
   "execution_count": null,
   "id": "34ce417d-9e13-4b23-b63c-c309787e1fa1",
   "metadata": {},
   "outputs": [],
   "source": [
    "import pandas as pd\n",
    "filenames=test_set_kaggle.filenames\n",
    "results=pd.DataFrame({\"image_name\":filenames,\n",
    "                      \"target\":weighted_predict_malignent})\n",
    "results.to_csv(\"efficientNetV2_Ensemble_resultsV1.csv\",index=False)"
   ]
  }
 ],
 "metadata": {
  "environment": {
   "kernel": "python3",
   "name": "common-cpu.m103",
   "type": "gcloud",
   "uri": "gcr.io/deeplearning-platform-release/base-cpu:m103"
  },
  "kernelspec": {
   "display_name": "Python 3",
   "language": "python",
   "name": "python3"
  },
  "language_info": {
   "codemirror_mode": {
    "name": "ipython",
    "version": 3
   },
   "file_extension": ".py",
   "mimetype": "text/x-python",
   "name": "python",
   "nbconvert_exporter": "python",
   "pygments_lexer": "ipython3",
   "version": "3.7.12"
  }
 },
 "nbformat": 4,
 "nbformat_minor": 5
}
